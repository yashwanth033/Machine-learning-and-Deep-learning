{
 "cells": [
  {
   "cell_type": "raw",
   "metadata": {},
   "source": [
    "Calculate the mean, median, mode and standard deviation for the problem \n",
    "statements 1& 2.\n",
    "Problem Statement 1: \n",
    "The marks awarded for an assignment set for a Year 8 class of 20 students were as \n",
    "follows:\n",
    "6 7 5 7 7 8 7 6 9 7 4 10 6 8 8 9 5 6 4 8"
   ]
  },
  {
   "cell_type": "code",
   "execution_count": 8,
   "metadata": {},
   "outputs": [],
   "source": [
    "from scipy import stats\n",
    "import numpy as np"
   ]
  },
  {
   "cell_type": "code",
   "execution_count": 9,
   "metadata": {},
   "outputs": [
    {
     "data": {
      "text/plain": [
       "ModeResult(mode=array([7]), count=array([5]))"
      ]
     },
     "execution_count": 9,
     "metadata": {},
     "output_type": "execute_result"
    }
   ],
   "source": [
    "stats.mode(np.array([6, 7, 5, 7, 7, 8, 7, 6, 9, 7, 4, 10, 6, 8, 8, 9, 5, 6, 4, 8]))"
   ]
  },
  {
   "cell_type": "code",
   "execution_count": 10,
   "metadata": {},
   "outputs": [
    {
     "data": {
      "text/plain": [
       "6.85"
      ]
     },
     "execution_count": 10,
     "metadata": {},
     "output_type": "execute_result"
    }
   ],
   "source": [
    "np.mean(np.array([6, 7, 5, 7, 7, 8, 7, 6, 9, 7, 4, 10, 6, 8, 8, 9, 5, 6, 4, 8]))"
   ]
  },
  {
   "cell_type": "code",
   "execution_count": 11,
   "metadata": {},
   "outputs": [
    {
     "data": {
      "text/plain": [
       "7.0"
      ]
     },
     "execution_count": 11,
     "metadata": {},
     "output_type": "execute_result"
    }
   ],
   "source": [
    "np.median(np.array([6, 7, 5, 7, 7, 8, 7, 6, 9, 7, 4, 10, 6, 8, 8, 9, 5, 6, 4, 8]))"
   ]
  },
  {
   "cell_type": "code",
   "execution_count": 12,
   "metadata": {},
   "outputs": [
    {
     "data": {
      "text/plain": [
       "2.5275000000000003"
      ]
     },
     "execution_count": 12,
     "metadata": {},
     "output_type": "execute_result"
    }
   ],
   "source": [
    "np.var(np.array([6, 7, 5, 7, 7, 8, 7, 6, 9, 7, 4, 10, 6, 8, 8, 9, 5, 6, 4, 8]))"
   ]
  },
  {
   "cell_type": "code",
   "execution_count": 13,
   "metadata": {},
   "outputs": [
    {
     "data": {
      "text/plain": [
       "1.5898113095584647"
      ]
     },
     "execution_count": 13,
     "metadata": {},
     "output_type": "execute_result"
    }
   ],
   "source": [
    "np.std(np.array([6, 7, 5, 7, 7, 8, 7, 6, 9, 7, 4, 10, 6, 8, 8, 9, 5, 6, 4, 8]))"
   ]
  },
  {
   "cell_type": "raw",
   "metadata": {},
   "source": [
    "Calculate the mean, median, mode and standard deviation for the problem \n",
    "Problem Statement 2: \n",
    "The number of calls from motorists per day for roadside service was recorded for a \n",
    "particular month:\n",
    "28, 122, 217, 130, 120, 86, 80, 90, 140, 120, 70, 40, 145, 113, 90, 68, 174, 194, 170, \n",
    "100, 75, 104, 97, 75,\n",
    "123, 100, 75, 104, 97, 75, 123, 100, 89, 120, 109"
   ]
  },
  {
   "cell_type": "code",
   "execution_count": 14,
   "metadata": {},
   "outputs": [
    {
     "data": {
      "text/plain": [
       "ModeResult(mode=array([75]), count=array([4]))"
      ]
     },
     "execution_count": 14,
     "metadata": {},
     "output_type": "execute_result"
    }
   ],
   "source": [
    "stats.mode(np.array([28, 122, 217, 130, 120, 86, 80, 90, 140, 120, 70, 40, 145, 113, 90, 68, 174, 194, 170, \n",
    "100, 75, 104, 97, 75,\n",
    "123, 100, 75, 104, 97, 75, 123, 100, 89, 120, 109]))"
   ]
  },
  {
   "cell_type": "code",
   "execution_count": 15,
   "metadata": {},
   "outputs": [
    {
     "data": {
      "text/plain": [
       "107.51428571428572"
      ]
     },
     "execution_count": 15,
     "metadata": {},
     "output_type": "execute_result"
    }
   ],
   "source": [
    "np.mean(np.array([28, 122, 217, 130, 120, 86, 80, 90, 140, 120, 70, 40, 145, 113, 90, 68, 174, 194, 170, \n",
    "100, 75, 104, 97, 75,\n",
    "123, 100, 75, 104, 97, 75, 123, 100, 89, 120, 109]))"
   ]
  },
  {
   "cell_type": "code",
   "execution_count": 16,
   "metadata": {},
   "outputs": [
    {
     "data": {
      "text/plain": [
       "100.0"
      ]
     },
     "execution_count": 16,
     "metadata": {},
     "output_type": "execute_result"
    }
   ],
   "source": [
    "np.median(np.array([28, 122, 217, 130, 120, 86, 80, 90, 140, 120, 70, 40, 145, 113, 90, 68, 174, 194, 170, \n",
    "100, 75, 104, 97, 75,\n",
    "123, 100, 75, 104, 97, 75, 123, 100, 89, 120, 109]))"
   ]
  },
  {
   "cell_type": "code",
   "execution_count": 17,
   "metadata": {},
   "outputs": [
    {
     "data": {
      "text/plain": [
       "1503.3355102040816"
      ]
     },
     "execution_count": 17,
     "metadata": {},
     "output_type": "execute_result"
    }
   ],
   "source": [
    "np.var(np.array([28, 122, 217, 130, 120, 86, 80, 90, 140, 120, 70, 40, 145, 113, 90, 68, 174, 194, 170, \n",
    "100, 75, 104, 97, 75,\n",
    "123, 100, 75, 104, 97, 75, 123, 100, 89, 120, 109]))"
   ]
  },
  {
   "cell_type": "code",
   "execution_count": 18,
   "metadata": {},
   "outputs": [
    {
     "data": {
      "text/plain": [
       "38.77287080168403"
      ]
     },
     "execution_count": 18,
     "metadata": {},
     "output_type": "execute_result"
    }
   ],
   "source": [
    "np.std(np.array([28, 122, 217, 130, 120, 86, 80, 90, 140, 120, 70, 40, 145, 113, 90, 68, 174, 194, 170, \n",
    "100, 75, 104, 97, 75,\n",
    "123, 100, 75, 104, 97, 75, 123, 100, 89, 120, 109]))"
   ]
  },
  {
   "cell_type": "raw",
   "metadata": {},
   "source": [
    "Problem Statement 3: \n",
    "The number of times I go to the gym in weekdays, are given below along with its \n",
    "associated probability:\n",
    "x = 0, 1, 2, 3, 4, 5\n",
    "f(x) = 0.09, 0.15, 0.40, 0.25, 0.10, 0.01\n",
    "Calculate the mean no. of workouts in a week. Also evaluate the variance involved in \n",
    "it."
   ]
  },
  {
   "cell_type": "raw",
   "metadata": {},
   "source": [
    "μ = Σxp\n",
    "Var(X) = Σx2p − μ2\n",
    "σ = √Var(X)"
   ]
  },
  {
   "cell_type": "code",
   "execution_count": 19,
   "metadata": {},
   "outputs": [],
   "source": [
    "x = [0, 1, 2, 3, 4, 5]\n",
    "f = [0.09, 0.15, 0.40, 0.25, 0.10, 0.01]"
   ]
  },
  {
   "cell_type": "code",
   "execution_count": 20,
   "metadata": {},
   "outputs": [
    {
     "data": {
      "text/plain": [
       "2.15"
      ]
     },
     "execution_count": 20,
     "metadata": {},
     "output_type": "execute_result"
    }
   ],
   "source": [
    "mean = 0\n",
    "for i in range(len(x)):\n",
    "    mean += x[i]*f[i]\n",
    "mean"
   ]
  },
  {
   "cell_type": "code",
   "execution_count": 21,
   "metadata": {},
   "outputs": [
    {
     "data": {
      "text/plain": [
       "1.2275"
      ]
     },
     "execution_count": 21,
     "metadata": {},
     "output_type": "execute_result"
    }
   ],
   "source": [
    "variance = 0\n",
    "for i in range(len(x)):\n",
    "    variance += (x[i]**2)*f[i]\n",
    "variance = variance - mean**2\n",
    "variance"
   ]
  },
  {
   "cell_type": "raw",
   "metadata": {},
   "source": [
    "Problem Statement 4:\n",
    "Let the continuous random variable D denote the diameter of the hole drilled in an \n",
    "aluminum sheet. The target diameter to be achieved is 12.5mm. Random \n",
    "disturbances in the process often result in inaccuracy.\n",
    "Historical data shows that the distribution of D can be modelled by the PDF (𝑑) = \n",
    "20𝑒−20(𝑑−12.5), 𝑑 ≥ 12.5. If a part with diameter > 12.6 mm needs to be scrapped, \n",
    "what is the proportion of those parts? What is the CDF when the diameter is of 11 \n",
    "mm? What is your conclusion regarding the proportion of scraps?"
   ]
  },
  {
   "cell_type": "markdown",
   "metadata": {},
   "source": [
    "![title](stats1_prob4.jpg)"
   ]
  },
  {
   "cell_type": "code",
   "execution_count": 22,
   "metadata": {},
   "outputs": [
    {
     "data": {
      "text/plain": [
       "0.13533528323661365"
      ]
     },
     "execution_count": 22,
     "metadata": {},
     "output_type": "execute_result"
    }
   ],
   "source": [
    "import math\n",
    "math.exp(-20*(12.6-12.5))"
   ]
  },
  {
   "cell_type": "code",
   "execution_count": 23,
   "metadata": {},
   "outputs": [
    {
     "data": {
      "text/plain": [
       "0.8646647167633863"
      ]
     },
     "execution_count": 23,
     "metadata": {},
     "output_type": "execute_result"
    }
   ],
   "source": [
    "-math.exp(-20*(12.6-12.5))+math.exp(-20*(12.5-12.5))"
   ]
  },
  {
   "cell_type": "raw",
   "metadata": {},
   "source": [
    "Problem Statement 5: \n",
    "A company manufactures LED bulbs with a faulty rate of 30%. If I randomly select 6 \n",
    "chosen LEDs, what is the probability of having 2 faulty LEDs in my sample? \n",
    "Calculate the average value of this process. Also evaluate the standard deviation \n",
    "associated with it."
   ]
  },
  {
   "cell_type": "code",
   "execution_count": 24,
   "metadata": {},
   "outputs": [],
   "source": [
    "from math import comb"
   ]
  },
  {
   "cell_type": "code",
   "execution_count": 25,
   "metadata": {},
   "outputs": [],
   "source": [
    "def fun_prob(n,p,x):\n",
    "    return comb(n,x)*(p**x)*((1-p)**(n-x))"
   ]
  },
  {
   "cell_type": "code",
   "execution_count": 26,
   "metadata": {},
   "outputs": [
    {
     "data": {
      "text/plain": [
       "0.3241349999999999"
      ]
     },
     "execution_count": 26,
     "metadata": {},
     "output_type": "execute_result"
    }
   ],
   "source": [
    "prob_faulty = 0.3\n",
    "prob_two_six_faulty = fun_prob(6,0.3,2) #((6*5)/2)*((0.3)**2)*((0.7)**4)\n",
    "prob_two_six_faulty"
   ]
  },
  {
   "cell_type": "raw",
   "metadata": {},
   "source": [
    "The binomial distribution has the following properties:\n",
    "\n",
    "The mean of the distribution (μx) is equal to n * P .\n",
    "The variance (σ2x) is n * P * ( 1 - P ).\n",
    "The standard deviation (σx) is sqrt[ n * P * ( 1 - P ) ].\n",
    "where, b(x; n, P) = nCx * P^x * (1 - P)^(n - x)"
   ]
  },
  {
   "cell_type": "code",
   "execution_count": 27,
   "metadata": {},
   "outputs": [
    {
     "data": {
      "text/plain": [
       "1.7999999999999998"
      ]
     },
     "execution_count": 27,
     "metadata": {},
     "output_type": "execute_result"
    }
   ],
   "source": [
    "mean = 6*0.3\n",
    "mean"
   ]
  },
  {
   "cell_type": "code",
   "execution_count": 28,
   "metadata": {},
   "outputs": [
    {
     "data": {
      "text/plain": [
       "1.2599999999999998"
      ]
     },
     "execution_count": 28,
     "metadata": {},
     "output_type": "execute_result"
    }
   ],
   "source": [
    "variance = 6*0.3*(1-0.3)\n",
    "variance"
   ]
  },
  {
   "cell_type": "code",
   "execution_count": 29,
   "metadata": {},
   "outputs": [
    {
     "data": {
      "text/plain": [
       "1.1224972160321822"
      ]
     },
     "execution_count": 29,
     "metadata": {},
     "output_type": "execute_result"
    }
   ],
   "source": [
    "std = math.sqrt(variance)\n",
    "std"
   ]
  },
  {
   "cell_type": "raw",
   "metadata": {},
   "source": [
    "Problem Statement 6:\n",
    "Gaurav and Barakha are both preparing for entrance exams. Gaurav attempts to \n",
    "solve 8 questions per day with a correction rate of 75%, while Barakha averages \n",
    "around 12 questions per day with a correction rate of 45%. What is the probability \n",
    "that each of them will solve 5 questions correctly? What happens in cases of 4 and 6 \n",
    "correct solutions? What do you infer from it? What are the two main governing \n",
    "factors affecting their ability to solve questions correctly? Give a pictorial \n",
    "representation of the same to validate your answer."
   ]
  },
  {
   "cell_type": "code",
   "execution_count": 30,
   "metadata": {},
   "outputs": [],
   "source": [
    "# for five coreect answers each\n",
    "P_gaurav = fun_prob(8,0.75,5)\n",
    "P_Barakha = fun_prob(12,0.45,5)"
   ]
  },
  {
   "cell_type": "code",
   "execution_count": 31,
   "metadata": {},
   "outputs": [
    {
     "data": {
      "text/plain": [
       "0.2076416015625"
      ]
     },
     "execution_count": 31,
     "metadata": {},
     "output_type": "execute_result"
    }
   ],
   "source": [
    "P_gaurav"
   ]
  },
  {
   "cell_type": "code",
   "execution_count": 32,
   "metadata": {},
   "outputs": [
    {
     "data": {
      "text/plain": [
       "0.22249823843265837"
      ]
     },
     "execution_count": 32,
     "metadata": {},
     "output_type": "execute_result"
    }
   ],
   "source": [
    "P_Barakha"
   ]
  },
  {
   "cell_type": "code",
   "execution_count": 33,
   "metadata": {},
   "outputs": [
    {
     "data": {
      "text/plain": [
       "0.046199890572992175"
      ]
     },
     "execution_count": 33,
     "metadata": {},
     "output_type": "execute_result"
    }
   ],
   "source": [
    "joint_P = P_gaurav*P_Barakha\n",
    "joint_P"
   ]
  },
  {
   "cell_type": "code",
   "execution_count": 34,
   "metadata": {},
   "outputs": [],
   "source": [
    "# for 4 and 6\n",
    "P_gaurav = fun_prob(8,0.75,4)\n",
    "P_Barakha = fun_prob(12,0.45,6)"
   ]
  },
  {
   "cell_type": "code",
   "execution_count": 35,
   "metadata": {},
   "outputs": [
    {
     "data": {
      "text/plain": [
       "0.086517333984375"
      ]
     },
     "execution_count": 35,
     "metadata": {},
     "output_type": "execute_result"
    }
   ],
   "source": [
    "P_gaurav"
   ]
  },
  {
   "cell_type": "code",
   "execution_count": 36,
   "metadata": {},
   "outputs": [
    {
     "data": {
      "text/plain": [
       "0.2123846821402648"
      ]
     },
     "execution_count": 36,
     "metadata": {},
     "output_type": "execute_result"
    }
   ],
   "source": [
    "P_Barakha"
   ]
  },
  {
   "cell_type": "code",
   "execution_count": 37,
   "metadata": {},
   "outputs": [
    {
     "data": {
      "text/plain": [
       "0.018374956477894614"
      ]
     },
     "execution_count": 37,
     "metadata": {},
     "output_type": "execute_result"
    }
   ],
   "source": [
    "joint_P = P_gaurav*P_Barakha\n",
    "joint_P"
   ]
  },
  {
   "cell_type": "raw",
   "metadata": {},
   "source": [
    "From the plots below we can see that Gaurav's peak probability is at 6 when solving 8 questions and Barakha's peak is at 5 when solving 12 questions . The Farther we move from the peak in either direction the probability reduces.\n",
    "\n",
    "Over all probability is the product of both probabilies as they are independent events.\n",
    "\n",
    "The two main governing factors affecting their ability to solve questions are :\n",
    "1. Number of questions they solve.\n",
    "2. Correction rate."
   ]
  },
  {
   "cell_type": "code",
   "execution_count": 38,
   "metadata": {},
   "outputs": [
    {
     "data": {
      "image/png": "[encoded data removed]",
      "text/plain": [
       "<Figure size 432x288 with 1 Axes>"
      ]
     },
     "metadata": {
      "needs_background": "light"
     },
     "output_type": "display_data"
    }
   ],
   "source": [
    "from matplotlib import pyplot as plt\n",
    "fig = plt.figure()\n",
    "ax = fig.add_axes([0,0,1,1])\n",
    "ax.bar([i for i in range(9)],[fun_prob(8,0.75,i) for i in range(9)])\n",
    "ax.set_title(\"Gaurav plot\")\n",
    "ax.set_xlabel('correct answers')\n",
    "ax.set_ylabel('probablity')\n",
    "plt.show()"
   ]
  },
  {
   "cell_type": "code",
   "execution_count": 39,
   "metadata": {},
   "outputs": [
    {
     "data": {
      "image/png": "[encoded data removed]",
      "text/plain": [
       "<Figure size 432x288 with 1 Axes>"
      ]
     },
     "metadata": {
      "needs_background": "light"
     },
     "output_type": "display_data"
    }
   ],
   "source": [
    "from matplotlib import pyplot as plt\n",
    "fig = plt.figure()\n",
    "ax = fig.add_axes([0,0,1,1])\n",
    "ax.bar([i for i in range(13)],[fun_prob(12,0.45,i) for i in range(13)])\n",
    "ax.set_title(\"Barakha plot\")\n",
    "ax.set_xlabel('correct answers')\n",
    "ax.set_ylabel('probablity')\n",
    "plt.show()"
   ]
  },
  {
   "cell_type": "raw",
   "metadata": {},
   "source": [
    "Problem Statement 7:\n",
    "Customers arrive at a rate of 72 per hour to my shop. What is the probability of 𝑘\n",
    "customers arriving in 4 minutes? a) 5 customers, b) not more than 3 customers, c) \n",
    "more than 3 customers. Give a pictorial representation of the same to validate your \n",
    "answer."
   ]
  },
  {
   "cell_type": "raw",
   "metadata": {},
   "source": [
    "P(x; μ) = ((e^(-μ))*(μ^x)) / x!\n",
    "μ (the expected number of occurrences) is sometimes written as λ. Sometimes called the event rate or rate parameter."
   ]
  },
  {
   "cell_type": "code",
   "execution_count": 48,
   "metadata": {},
   "outputs": [],
   "source": [
    "def poisson_prob(x,mu):\n",
    "    return (math.exp(-mu)*(mu**x))/math.factorial(x)"
   ]
  },
  {
   "cell_type": "code",
   "execution_count": 47,
   "metadata": {},
   "outputs": [],
   "source": [
    "mu = (72/60)*4 # customer_per_four_min"
   ]
  },
  {
   "cell_type": "code",
   "execution_count": 51,
   "metadata": {},
   "outputs": [
    {
     "data": {
      "text/plain": [
       "0.17474768364388282"
      ]
     },
     "execution_count": 51,
     "metadata": {},
     "output_type": "execute_result"
    }
   ],
   "source": [
    "prob_five = poisson_prob(5,mu)\n",
    "prob_five"
   ]
  },
  {
   "cell_type": "code",
   "execution_count": 52,
   "metadata": {},
   "outputs": [
    {
     "data": {
      "text/plain": [
       "0.2942299164965641"
      ]
     },
     "execution_count": 52,
     "metadata": {},
     "output_type": "execute_result"
    }
   ],
   "source": [
    "prob_not_more_than_three = poisson_prob(0,mu) + poisson_prob(1,mu) + poisson_prob(2,mu) + poisson_prob(3,mu)\n",
    "prob_not_more_than_three"
   ]
  },
  {
   "cell_type": "code",
   "execution_count": 53,
   "metadata": {},
   "outputs": [
    {
     "data": {
      "text/plain": [
       "0.705770083503436"
      ]
     },
     "execution_count": 53,
     "metadata": {},
     "output_type": "execute_result"
    }
   ],
   "source": [
    "prob_more_than_three = 1 - prob_not_more_than_three\n",
    "prob_more_than_three"
   ]
  },
  {
   "cell_type": "code",
   "execution_count": 55,
   "metadata": {},
   "outputs": [
    {
     "data": {
      "image/png": "[encoded data removed]",
      "text/plain": [
       "<Figure size 432x288 with 1 Axes>"
      ]
     },
     "metadata": {
      "needs_background": "light"
     },
     "output_type": "display_data"
    }
   ],
   "source": [
    "from matplotlib import pyplot as plt\n",
    "fig = plt.figure()\n",
    "ax = fig.add_axes([0,0,1,1])\n",
    "ax.bar([i for i in range(13)],[poisson_prob(i,mu) for i in range(13)])\n",
    "ax.set_title(\"Poisson plot\")\n",
    "ax.set_xlabel('Number of people')\n",
    "ax.set_ylabel('probablity')\n",
    "plt.show()"
   ]
  },
  {
   "cell_type": "raw",
   "metadata": {},
   "source": [
    "Problem Statement 8:\n",
    "I work as a data analyst in Aeon Learning Pvt. Ltd. After analyzing data, I make \n",
    "reports, where I have the efficiency of entering 77 words per minute with 6 errors per \n",
    "hour. What is the probability that I will commit 2 errors in a 455-word financial report?\n",
    "What happens when the no. of words increases/decreases (in case of 1000 words, \n",
    "255 words)? \n",
    "How is the 𝜆 affected?\n",
    "How does it influence the PMF? \n",
    "Give a pictorial representation of the same to validate your answer."
   ]
  },
  {
   "cell_type": "code",
   "execution_count": 58,
   "metadata": {},
   "outputs": [
    {
     "data": {
      "text/plain": [
       "5.909090909090909"
      ]
     },
     "execution_count": 58,
     "metadata": {},
     "output_type": "execute_result"
    }
   ],
   "source": [
    "time_for_total_report = 455/77\n",
    "time_for_total_report"
   ]
  },
  {
   "cell_type": "code",
   "execution_count": 59,
   "metadata": {},
   "outputs": [
    {
     "data": {
      "text/plain": [
       "0.5909090909090909"
      ]
     },
     "execution_count": 59,
     "metadata": {},
     "output_type": "execute_result"
    }
   ],
   "source": [
    "errors_excepted_in_total_time = time_for_total_report*(6/60)\n",
    "errors_excepted_in_total_time"
   ]
  },
  {
   "cell_type": "code",
   "execution_count": 60,
   "metadata": {},
   "outputs": [],
   "source": [
    "mu = errors_excepted_in_total_time"
   ]
  },
  {
   "cell_type": "code",
   "execution_count": 71,
   "metadata": {},
   "outputs": [
    {
     "data": {
      "text/plain": [
       "0.09669027375144446"
      ]
     },
     "execution_count": 71,
     "metadata": {},
     "output_type": "execute_result"
    }
   ],
   "source": [
    "poisson_prob_for_445_words = poisson_prob(2,mu)\n",
    "poisson_prob_for_445_words"
   ]
  },
  {
   "cell_type": "raw",
   "metadata": {},
   "source": [
    "For 1000 words the probablitiy increases and For 225 words the probablitiy decreases for commiting two errors.\n",
    "𝜆 increases linearly with number of words.\n",
    "PMF shifts to right and the plot becomes flatter with increasing words."
   ]
  },
  {
   "cell_type": "code",
   "execution_count": 108,
   "metadata": {},
   "outputs": [
    {
     "data": {
      "image/png": "[encoded data removed]",
      "text/plain": [
       "<Figure size 432x288 with 1 Axes>"
      ]
     },
     "metadata": {
      "needs_background": "light"
     },
     "output_type": "display_data"
    }
   ],
   "source": [
    "import matplotlib.pyplot as plt\n",
    "plt.plot([i for i in range(7)], [poisson_prob(i,((3000/77)*(6/60))) for i in range(7)], '#ff7f0e',label='3000 words')\n",
    "plt.plot([i for i in range(7)], [poisson_prob(i,((2000/77)*(6/60))) for i in range(7)], 'k',label='2000 words')\n",
    "plt.plot([i for i in range(7)], [poisson_prob(i,((1000/77)*(6/60))) for i in range(7)], 'b',label='1000 words')\n",
    "plt.plot([i for i in range(7)], [poisson_prob(i,((445/77)*(6/60))) for i in range(7)], 'r',label='445 words')\n",
    "plt.plot([i for i in range(7)], [poisson_prob(i,((225/77)*(6/60))) for i in range(7)], 'g',label='225 words')\n",
    "plt.plot([i for i in range(7)], [poisson_prob(i,((100/77)*(6/60))) for i in range(7)], 'y',label='100 words')\n",
    "plt.legend()\n",
    "plt.show()"
   ]
  },
  {
   "cell_type": "raw",
   "metadata": {},
   "source": [
    "Problem Statement 9:\n",
    "Let the continuous random variable D denote the diameter of the hole drilled in an \n",
    "aluminum sheet. The target diameter to be achieved is 12.5mm. Random \n",
    "disturbances in the process often result in inaccuracy.\n",
    "Historical data shows that the distribution of D can be modelled by the PDF, f(d) = \n",
    "20e−20(d−12.5), d ≥ 12.5. If a part with diameter > 12.6 mm needs to be scrapped, \n",
    "what is the proportion of those parts? What is the CDF when the diameter is of 11 \n",
    "mm?\n",
    "What is the conclusion of this experiment?"
   ]
  },
  {
   "cell_type": "markdown",
   "metadata": {},
   "source": [
    "![title](stats1_prob4.jpg)"
   ]
  },
  {
   "cell_type": "code",
   "execution_count": 22,
   "metadata": {},
   "outputs": [
    {
     "data": {
      "text/plain": [
       "0.13533528323661365"
      ]
     },
     "execution_count": 22,
     "metadata": {},
     "output_type": "execute_result"
    }
   ],
   "source": [
    "import math\n",
    "math.exp(-20*(12.6-12.5))"
   ]
  },
  {
   "cell_type": "code",
   "execution_count": 23,
   "metadata": {},
   "outputs": [
    {
     "data": {
      "text/plain": [
       "0.8646647167633863"
      ]
     },
     "execution_count": 23,
     "metadata": {},
     "output_type": "execute_result"
    }
   ],
   "source": [
    "-math.exp(-20*(12.6-12.5))+math.exp(-20*(12.5-12.5))"
   ]
  },
  {
   "cell_type": "raw",
   "metadata": {},
   "source": [
    "Problem Statement 10:\n",
    "Please compute the following:\n",
    "a) P(Z > 1.26), P(Z < −0.86), P(Z > −1.37), P(−1.25 < Z < 0.37), P(Z ≤ −4.6)\n",
    "b) Find the value 𝑧 such that 𝑃(𝑍 > 𝑧) = 0.05\n",
    "c) Find the value of 𝑧 such that 𝑃(−𝑧 < 𝑍 < 𝑧) = 0.99"
   ]
  },
  {
   "cell_type": "markdown",
   "metadata": {},
   "source": [
    "![title](z_table.png)"
   ]
  },
  {
   "cell_type": "code",
   "execution_count": 110,
   "metadata": {},
   "outputs": [
    {
     "data": {
      "text/plain": [
       "0.1038"
      ]
     },
     "execution_count": 110,
     "metadata": {},
     "output_type": "execute_result"
    }
   ],
   "source": [
    "# a) P(Z > 1.26) = 1 - P(Z <= 1.26)\n",
    "1 - 0.8962"
   ]
  },
  {
   "cell_type": "code",
   "execution_count": 111,
   "metadata": {},
   "outputs": [
    {
     "data": {
      "text/plain": [
       "0.19489999999999996"
      ]
     },
     "execution_count": 111,
     "metadata": {},
     "output_type": "execute_result"
    }
   ],
   "source": [
    "# P(Z < −0.86) = 1 - P(Z < 0.86)\n",
    "1 - 0.8051"
   ]
  },
  {
   "cell_type": "code",
   "execution_count": 112,
   "metadata": {},
   "outputs": [
    {
     "data": {
      "text/plain": [
       "0.08530000000000004"
      ]
     },
     "execution_count": 112,
     "metadata": {},
     "output_type": "execute_result"
    }
   ],
   "source": [
    "# P(Z > −1.37) = 1 - P(Z < −1.37)\n",
    "1 - 0.9147"
   ]
  },
  {
   "cell_type": "code",
   "execution_count": 113,
   "metadata": {},
   "outputs": [
    {
     "data": {
      "text/plain": [
       "0.5387"
      ]
     },
     "execution_count": 113,
     "metadata": {},
     "output_type": "execute_result"
    }
   ],
   "source": [
    "# P(−1.25 < Z < 0.37) = P(Z < 0.37) - P(Z < -1.25) = P(Z < 0.37) - (1 - P(Z < 1.25))\n",
    "0.6443 - 1 + 0.8944"
   ]
  },
  {
   "cell_type": "raw",
   "metadata": {},
   "source": [
    "P(Z ≤ −4.6) ~ 0\n",
    "Answer : It is nearly zero as the last given value in table is P(z <= -3.49) = 0.0002"
   ]
  },
  {
   "cell_type": "raw",
   "metadata": {},
   "source": [
    "b) Find the value 𝑧 such that 𝑃(𝑍 > 𝑧) = 0.05\n",
    "Answer : From Z-table, the value 0.05 occurs nearly at 1.65"
   ]
  },
  {
   "cell_type": "raw",
   "metadata": {},
   "source": [
    "c) Find the value of 𝑧 such that 𝑃(−𝑧 < 𝑍 < 𝑧) = 0.99\n",
    "Answer : 𝑃(−𝑧 < 𝑍 < 𝑧) = 0.99 ==> P(Z<-z) = 0.005 and P(Z>z) = 0.005\n",
    "P(Z<z) = 0.995\n",
    "z = 2.58"
   ]
  },
  {
   "cell_type": "raw",
   "metadata": {},
   "source": [
    "Problem Statement 11:\n",
    "The current flow in a copper wire follow a normal distribution with a mean of 10 𝑚A \n",
    "and a variance of 4 (𝑚𝐴)2. \n",
    "What is the probability that a current measurement will exceed 13 𝑚𝐴? What is the \n",
    "probability that a current measurement is between 9 and 11mA? Determine the \n",
    "current measurement which has a probability of 0.98."
   ]
  },
  {
   "cell_type": "code",
   "execution_count": 122,
   "metadata": {},
   "outputs": [
    {
     "data": {
      "text/plain": [
       "0.06679999999999997"
      ]
     },
     "execution_count": 122,
     "metadata": {},
     "output_type": "execute_result"
    }
   ],
   "source": [
    "# P(current >= 13mA) = P(Z >= 3/sqrt(4)) = 1 - P(Z < 3/sqrt(4))\n",
    "z = 3/math.sqrt(4) # 1.5\n",
    "1 - 0.9332 # Answer"
   ]
  },
  {
   "cell_type": "raw",
   "metadata": {},
   "source": [
    "Problem Statement 12:\n",
    "The shaft in a piston has its diameter normally distributed with a mean of 0.2508 inch \n",
    "and a standard deviation of 0.0005 inch. The specifications of the shaft are 0.2500 ∓\n",
    "0.0015 inch. What proportion of shafts are in sync with the specifications? If the \n",
    "process is centered so that the mean is equal to the target value of 0.2500, what \n",
    "proportion of shafts conform to the new specifications? What is your conclusion from \n",
    "this experiment?"
   ]
  },
  {
   "cell_type": "code",
   "execution_count": 123,
   "metadata": {},
   "outputs": [
    {
     "data": {
      "text/plain": [
       "0.9192"
      ]
     },
     "execution_count": 123,
     "metadata": {},
     "output_type": "execute_result"
    }
   ],
   "source": [
    "# P(0.2485<specs<0.2515) = P(((0.2486-0.2508)/0.0005)<Z<((0.2515-0.2508)/0.0005))=P(-4.6<Z<1.4)=P(Z<1.4)-P(-4.6<Z)\n",
    "0.9192 - 0"
   ]
  }
 ],
 "metadata": {
  "kernelspec": {
   "display_name": "Python 3",
   "language": "python",
   "name": "python3"
  },
  "language_info": {
   "codemirror_mode": {
    "name": "ipython",
    "version": 3
   },
   "file_extension": ".py",
   "mimetype": "text/x-python",
   "name": "python",
   "nbconvert_exporter": "python",
   "pygments_lexer": "ipython3",
   "version": "3.8.3"
  }
 },
 "nbformat": 4,
 "nbformat_minor": 4
}
