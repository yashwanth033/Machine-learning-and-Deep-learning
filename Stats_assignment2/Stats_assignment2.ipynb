{
 "cells": [
  {
   "cell_type": "code",
   "execution_count": 3,
   "metadata": {},
   "outputs": [],
   "source": [
    "import math"
   ]
  },
  {
   "cell_type": "raw",
   "metadata": {},
   "source": [
    "Problem Statement 1: \n",
    "In each of the following situations, state whether it is a correctly stated hypothesis \n",
    "testing problem and why?\n",
    "1. 𝐻0: 𝜇 = 25, 𝐻1: 𝜇 ≠ 25\n",
    "2. 𝐻0: 𝜎 > 10, 𝐻1: 𝜎 = 10\n",
    "3. 𝐻0: 𝑥_mean = 50, 𝐻1: 𝑥_mean ≠ 50\n",
    "4. 𝐻0: 𝑝 = 0.1, 𝐻1: 𝑝 = 0.5\n",
    "5. 𝐻0: 𝑠 = 30, 𝐻1: 𝑠 > 30"
   ]
  },
  {
   "cell_type": "raw",
   "metadata": {},
   "source": [
    "1. 𝐻0: 𝜇 = 25, 𝐻1: 𝜇 ≠ 25\n",
    "Two tailed hypothesis testing correctly stated. We are looking if 𝜇 lies in either sides of critical region to reject null hypothesis."
   ]
  },
  {
   "cell_type": "raw",
   "metadata": {},
   "source": [
    "2. 𝐻0: 𝜎 > 10, 𝐻1: 𝜎 = 10\n",
    "Here the hypothesis is not correctly stated. Null hypothesis is assuming grater than relation and alternate hypothesis is assuming equality. Less than condition is not covered."
   ]
  },
  {
   "cell_type": "raw",
   "metadata": {},
   "source": [
    "3. 𝐻0: 𝑥_mean = 50, 𝐻1: 𝑥_mean ≠ 50\n",
    "Two tailed hypothesis testing correctly stated. We are looking if 𝜇 lies in either sides of critical region to reject null hypothesis."
   ]
  },
  {
   "cell_type": "raw",
   "metadata": {},
   "source": [
    "4. 𝐻0: 𝑝 = 0.1, 𝐻1: 𝑝 = 0.5\n",
    "Here the hypothesis is not correctly stated. Null hypothesis is assuming equality, but Alternate hypothesis is also assuming equality instead of inequality to cover all cases."
   ]
  },
  {
   "cell_type": "raw",
   "metadata": {},
   "source": [
    "5. 𝐻0: 𝑠 = 30, 𝐻1: 𝑠 > 30\n",
    "Incorrect hypothesis, Null hypothesis is assuming equality and Alternate hypothesis is assuming greater than relation. Less than condition not covered."
   ]
  },
  {
   "cell_type": "markdown",
   "metadata": {},
   "source": [
    "![title](z_table.png)"
   ]
  },
  {
   "cell_type": "raw",
   "metadata": {},
   "source": [
    "Problem Statement 2:\n",
    "The college bookstore tells prospective students that the average cost of its\n",
    "textbooks is Rs. 52 with a standard deviation of Rs. 4.50. A group of smart statistics\n",
    "students thinks that the average cost is higher. To test the bookstore’s claim against\n",
    "their alternative, the students will select a random sample of size 100. Assume that\n",
    "the mean from their random sample is Rs. 52.80. Perform a hypothesis test at the\n",
    "5% level of significance and state your decision."
   ]
  },
  {
   "cell_type": "raw",
   "metadata": {},
   "source": [
    "NUll Hypothesis : mu = 52\n",
    "Alternate Hypothesis = mu != 52\n",
    "z = (x-mu)/(S/sqrt(n))"
   ]
  },
  {
   "cell_type": "code",
   "execution_count": 1,
   "metadata": {},
   "outputs": [],
   "source": [
    "mu = 52\n",
    "S = 4.50\n",
    "n = 100\n",
    "x = 52.80"
   ]
  },
  {
   "cell_type": "code",
   "execution_count": 3,
   "metadata": {},
   "outputs": [
    {
     "data": {
      "text/plain": [
       "1.7777777777777715"
      ]
     },
     "execution_count": 3,
     "metadata": {},
     "output_type": "execute_result"
    }
   ],
   "source": [
    "z = (x-mu)/(S/math.sqrt(n))\n",
    "z"
   ]
  },
  {
   "cell_type": "code",
   "execution_count": 4,
   "metadata": {},
   "outputs": [],
   "source": [
    "significance_level = 0.05"
   ]
  },
  {
   "cell_type": "code",
   "execution_count": 9,
   "metadata": {},
   "outputs": [
    {
     "data": {
      "text/plain": [
       "0.975"
      ]
     },
     "execution_count": 9,
     "metadata": {},
     "output_type": "execute_result"
    }
   ],
   "source": [
    "p_value = 1-(significance_level/2) # two tailed testing\n",
    "p_value"
   ]
  },
  {
   "cell_type": "raw",
   "metadata": {},
   "source": [
    "z_critical = 1.96\n",
    "Here -1.96(-z_critical) < 1.78(z) < 1.96(z_critical)\n",
    "Accepted Null Hypothesis"
   ]
  },
  {
   "cell_type": "raw",
   "metadata": {},
   "source": [
    "Problem Statement 3:\n",
    "A certain chemical pollutant in the Genesee River has been constant for several\n",
    "years with mean μ = 34 ppm (parts per million) and standard deviation σ = 8 ppm. A\n",
    "group of factory representatives whose companies discharge liquids into the river is\n",
    "now claiming that they have lowered the average with improved filtration devices. A\n",
    "group of environmentalists will test to see if this is true at the 1% level of\n",
    "significance. Assume \\ that their sample of size 50 gives a mean of 32.5 ppm.\n",
    "Perform a hypothesis test at the 1% level of significance and state your decision."
   ]
  },
  {
   "cell_type": "raw",
   "metadata": {},
   "source": [
    "NUll Hypothesis : mu = 34\n",
    "Alternate Hypothesis = mu != 34\n",
    "z = (x-mu)/(S/sqrt(n))"
   ]
  },
  {
   "cell_type": "code",
   "execution_count": 10,
   "metadata": {},
   "outputs": [],
   "source": [
    "mu = 34\n",
    "S = 8\n",
    "n = 50\n",
    "x = 32.5"
   ]
  },
  {
   "cell_type": "code",
   "execution_count": 11,
   "metadata": {},
   "outputs": [
    {
     "data": {
      "text/plain": [
       "-1.3258252147247767"
      ]
     },
     "execution_count": 11,
     "metadata": {},
     "output_type": "execute_result"
    }
   ],
   "source": [
    "z = (x-mu)/(S/math.sqrt(n))\n",
    "z"
   ]
  },
  {
   "cell_type": "code",
   "execution_count": 12,
   "metadata": {},
   "outputs": [],
   "source": [
    "significance_level = 0.01"
   ]
  },
  {
   "cell_type": "code",
   "execution_count": 13,
   "metadata": {},
   "outputs": [
    {
     "data": {
      "text/plain": [
       "0.995"
      ]
     },
     "execution_count": 13,
     "metadata": {},
     "output_type": "execute_result"
    }
   ],
   "source": [
    "p_value = 1-(significance_level/2) # two tailed testing\n",
    "p_value"
   ]
  },
  {
   "cell_type": "raw",
   "metadata": {},
   "source": [
    "z_critical = 2.576\n",
    "Here -2.576(-z_critical) < -1.3258252147247767(z) < 2.576(z_critical)\n",
    "Accepted Null Hypothesis"
   ]
  },
  {
   "cell_type": "raw",
   "metadata": {},
   "source": [
    "Problem Statement 4:\n",
    "Based on population figures and other general information on the U.S. population,\n",
    "suppose it has been estimated that, on average, a family of four in the U.S. spends\n",
    "about $1135 annually on dental expenditures. Suppose further that a regional dental\n",
    "association wants to test to determine if this figure is accurate for their area of\n",
    "country. To test this, 22 families of 4 are randomly selected from the population in\n",
    "that area of the country and a log is kept of the family’s dental expenditure for one\n",
    "year. The resulting data are given below. Assuming, that dental expenditure is\n",
    "normally distributed in the population, use the data and an alpha of 0.5 to test the\n",
    "dental association’s hypothesis.\n",
    "1008, 812, 1117, 1323, 1308, 1415, 831, 1021, 1287, 851, 930, 730, 699,\n",
    "872, 913, 944, 954, 987, 1695, 995, 1003, 994"
   ]
  },
  {
   "cell_type": "raw",
   "metadata": {},
   "source": [
    "NUll Hypothesis : mu = 1135\n",
    "Alternate Hypothesis = mu != 1135\n",
    "z = (x-mu)/(S/sqrt(n))"
   ]
  },
  {
   "cell_type": "code",
   "execution_count": 14,
   "metadata": {},
   "outputs": [],
   "source": [
    "from scipy import stats\n",
    "import numpy as np"
   ]
  },
  {
   "cell_type": "code",
   "execution_count": 15,
   "metadata": {},
   "outputs": [
    {
     "data": {
      "text/plain": [
       "1031.3181818181818"
      ]
     },
     "execution_count": 15,
     "metadata": {},
     "output_type": "execute_result"
    }
   ],
   "source": [
    "np.mean([1008, 812, 1117, 1323, 1308, 1415, 831, 1021, 1287, 851, 930, 730, 699,\n",
    "872, 913, 944, 954, 987, 1695, 995, 1003, 994])"
   ]
  },
  {
   "cell_type": "code",
   "execution_count": 23,
   "metadata": {},
   "outputs": [
    {
     "data": {
      "text/plain": [
       "240.37458593184255"
      ]
     },
     "execution_count": 23,
     "metadata": {},
     "output_type": "execute_result"
    }
   ],
   "source": [
    "std = 0\n",
    "for each in [1008, 812, 1117, 1323, 1308, 1415, 831, 1021, 1287, 851, 930, 730, 699, 872, 913, 944, 954, 987, 1695, 995, 1003, 994]:\n",
    "    std += (each-1031.32)**2\n",
    "math.sqrt(std/21)"
   ]
  },
  {
   "cell_type": "code",
   "execution_count": 24,
   "metadata": {},
   "outputs": [],
   "source": [
    "mu = 1135\n",
    "S = 240.37\n",
    "n = 22\n",
    "x = 1031.32"
   ]
  },
  {
   "cell_type": "code",
   "execution_count": 25,
   "metadata": {},
   "outputs": [
    {
     "data": {
      "text/plain": [
       "-2.023140599819002"
      ]
     },
     "execution_count": 25,
     "metadata": {},
     "output_type": "execute_result"
    }
   ],
   "source": [
    "z = (x-mu)/(S/math.sqrt(n))\n",
    "z"
   ]
  },
  {
   "cell_type": "code",
   "execution_count": 26,
   "metadata": {},
   "outputs": [],
   "source": [
    "significance_level = 0.05"
   ]
  },
  {
   "cell_type": "code",
   "execution_count": 27,
   "metadata": {},
   "outputs": [
    {
     "data": {
      "text/plain": [
       "0.975"
      ]
     },
     "execution_count": 27,
     "metadata": {},
     "output_type": "execute_result"
    }
   ],
   "source": [
    "p_value = 1-(significance_level/2) # two tailed testing\n",
    "p_value"
   ]
  },
  {
   "cell_type": "raw",
   "metadata": {},
   "source": [
    "z_critical = 1.96\n",
    "Here -1.96(-z_critical) > -2.023 (z)\n",
    "Rejected Null Hypothesis"
   ]
  },
  {
   "cell_type": "raw",
   "metadata": {},
   "source": [
    "Problem Statement 5:\n",
    "In a report prepared by the Economic Research Department of a major bank the\n",
    "Department manager maintains that the average annual family income on Metropolis\n",
    "is $48,432. What do you conclude about the validity of the report if a random sample\n",
    "of 400 families shows and average income of $48,574 with a standard deviation of\n",
    "2000?"
   ]
  },
  {
   "cell_type": "raw",
   "metadata": {},
   "source": [
    "NUll Hypothesis : mu = 48,432\n",
    "Alternate Hypothesis : mu != 48,432\n",
    "z = (x-mu)/(S/sqrt(n))"
   ]
  },
  {
   "cell_type": "code",
   "execution_count": 29,
   "metadata": {},
   "outputs": [],
   "source": [
    "mu = 48432\n",
    "S = 2000\n",
    "n = 400\n",
    "x = 48574"
   ]
  },
  {
   "cell_type": "code",
   "execution_count": 30,
   "metadata": {},
   "outputs": [
    {
     "data": {
      "text/plain": [
       "1.42"
      ]
     },
     "execution_count": 30,
     "metadata": {},
     "output_type": "execute_result"
    }
   ],
   "source": [
    "z = (x-mu)/(S/math.sqrt(n))\n",
    "z"
   ]
  },
  {
   "cell_type": "code",
   "execution_count": 36,
   "metadata": {},
   "outputs": [
    {
     "data": {
      "text/plain": [
       "0.15559999999999996"
      ]
     },
     "execution_count": 36,
     "metadata": {},
     "output_type": "execute_result"
    }
   ],
   "source": [
    "(1-0.9222)*2 # P-value for z = 1.42 is 0.9222, Fror which signoficance level is:"
   ]
  },
  {
   "cell_type": "raw",
   "metadata": {},
   "source": [
    "For significance level less than 15.5 % Null Hypothesis can be accepted."
   ]
  },
  {
   "cell_type": "raw",
   "metadata": {},
   "source": [
    "Problem Statement 6:\n",
    "Suppose that in past years the average price per square foot for warehouses in the\n",
    "United States has been $32.28. A national real estate investor wants to determine\n",
    "whether that figure has changed now. The investor hires a researcher who randomly\n",
    "samples 19 warehouses that are for sale across the United States and finds that the\n",
    "mean price per square foot is $31.67, with a standard deviation of $1.29. assume\n",
    "that the prices of warehouse footage are normally distributed in population. If the\n",
    "researcher uses a 5% level of significance, what statistical conclusion can be\n",
    "reached? What are the hypotheses?"
   ]
  },
  {
   "cell_type": "raw",
   "metadata": {},
   "source": [
    "NUll Hypothesis : mu = 32.28\n",
    "Alternate Hypothesis : mu != 31.67\n",
    "z = (x-mu)/(S/sqrt(n))"
   ]
  },
  {
   "cell_type": "code",
   "execution_count": 1,
   "metadata": {},
   "outputs": [],
   "source": [
    "mu = 32.28\n",
    "S = 1.29\n",
    "n = 19\n",
    "x = 31.67"
   ]
  },
  {
   "cell_type": "code",
   "execution_count": 4,
   "metadata": {},
   "outputs": [
    {
     "data": {
      "text/plain": [
       "-2.06118477175179"
      ]
     },
     "execution_count": 4,
     "metadata": {},
     "output_type": "execute_result"
    }
   ],
   "source": [
    "z = (x-mu)/(S/math.sqrt(n))\n",
    "z"
   ]
  },
  {
   "cell_type": "code",
   "execution_count": 8,
   "metadata": {},
   "outputs": [],
   "source": [
    "# For Significance level 5%\n",
    "significance_level = 0.05"
   ]
  },
  {
   "cell_type": "code",
   "execution_count": 9,
   "metadata": {},
   "outputs": [
    {
     "data": {
      "text/plain": [
       "0.975"
      ]
     },
     "execution_count": 9,
     "metadata": {},
     "output_type": "execute_result"
    }
   ],
   "source": [
    "p_value = 1-(significance_level/2) # two tailed testing\n",
    "p_value"
   ]
  },
  {
   "cell_type": "raw",
   "metadata": {},
   "source": [
    "z_critical = 1.96\n",
    "Here -1.96(-z_critical) > -2.0611 (z)\n",
    "Rejected Null Hypothesis"
   ]
  },
  {
   "cell_type": "raw",
   "metadata": {},
   "source": [
    "An alpha level is the probability of a type I error, or you reject the null hypothesis when it is true. A related term, beta, is the opposite; the probability of rejecting the alternate hypothesis when it is true."
   ]
  },
  {
   "cell_type": "raw",
   "metadata": {},
   "source": [
    "Problem Statement 7:\n",
    "Fill in the blank spaces in the table and draw your conclusions from it. Consider standard deviation as 2.5\n",
    "\n",
    "Acceptance region     Sample size     alpha     beta at mu = 52      beta at mu = 50.5\n",
    "48.5 < x < 51.5            10         0.0574        0.2643               0.8923\n",
    "48 < x < 52                10         0.0114        0.5000               0.9705\n",
    "48.81 < x < 51.9           16         \n",
    "48.42 < x < 51.58          16         "
   ]
  },
  {
   "cell_type": "markdown",
   "metadata": {},
   "source": [
    "# Acceptance region     Sample size     alpha     beta at mu = 52      beta at mu = 50.5\n",
    "# 48.5 < x < 51.5"
   ]
  },
  {
   "cell_type": "code",
   "execution_count": 1,
   "metadata": {},
   "outputs": [],
   "source": [
    "mu = 50\n",
    "S = 2.5\n",
    "n = 10\n",
    "x_one, x_two = 48.5, 51.5"
   ]
  },
  {
   "cell_type": "code",
   "execution_count": 6,
   "metadata": {},
   "outputs": [
    {
     "data": {
      "text/plain": [
       "-1.8973665961010278"
      ]
     },
     "execution_count": 6,
     "metadata": {},
     "output_type": "execute_result"
    }
   ],
   "source": [
    "z = (x_one-mu)/(S/math.sqrt(n))\n",
    "z"
   ]
  },
  {
   "cell_type": "code",
   "execution_count": 7,
   "metadata": {},
   "outputs": [
    {
     "data": {
      "text/plain": [
       "1.8973665961010278"
      ]
     },
     "execution_count": 7,
     "metadata": {},
     "output_type": "execute_result"
    }
   ],
   "source": [
    "z = (x_two-mu)/(S/math.sqrt(n))\n",
    "z"
   ]
  },
  {
   "cell_type": "code",
   "execution_count": 9,
   "metadata": {},
   "outputs": [
    {
     "data": {
      "text/plain": [
       "0.057399999999999896"
      ]
     },
     "execution_count": 9,
     "metadata": {},
     "output_type": "execute_result"
    }
   ],
   "source": [
    "# alpha = P(Z < -1.90) + P(Z > 1.90)\n",
    "(1-0.9713)+(1-0.9713)"
   ]
  },
  {
   "cell_type": "code",
   "execution_count": 15,
   "metadata": {},
   "outputs": [],
   "source": [
    "mu = 52\n",
    "S = 2.5\n",
    "n = 10\n",
    "x_one, x_two = 48.5, 51.5"
   ]
  },
  {
   "cell_type": "code",
   "execution_count": 16,
   "metadata": {},
   "outputs": [
    {
     "data": {
      "text/plain": [
       "-4.427188724235731"
      ]
     },
     "execution_count": 16,
     "metadata": {},
     "output_type": "execute_result"
    }
   ],
   "source": [
    "z = (x_one-mu)/(S/math.sqrt(n))\n",
    "z"
   ]
  },
  {
   "cell_type": "code",
   "execution_count": 17,
   "metadata": {},
   "outputs": [
    {
     "data": {
      "text/plain": [
       "-0.6324555320336759"
      ]
     },
     "execution_count": 17,
     "metadata": {},
     "output_type": "execute_result"
    }
   ],
   "source": [
    "z = (x_two-mu)/(S/math.sqrt(n))\n",
    "z"
   ]
  },
  {
   "cell_type": "code",
   "execution_count": 22,
   "metadata": {},
   "outputs": [
    {
     "data": {
      "text/plain": [
       "0.2643"
      ]
     },
     "execution_count": 22,
     "metadata": {},
     "output_type": "execute_result"
    }
   ],
   "source": [
    "# beta = P(-4.43 <= Z <= -0.63) = P(Z <= -0.63) - P(Z <= -4.43)\n",
    "(1-0.7357) - 0.0000"
   ]
  },
  {
   "cell_type": "code",
   "execution_count": 23,
   "metadata": {},
   "outputs": [],
   "source": [
    "mu = 50.5\n",
    "S = 2.5\n",
    "n = 10\n",
    "x_one, x_two = 48.5, 51.5"
   ]
  },
  {
   "cell_type": "code",
   "execution_count": 24,
   "metadata": {},
   "outputs": [
    {
     "data": {
      "text/plain": [
       "-2.5298221281347035"
      ]
     },
     "execution_count": 24,
     "metadata": {},
     "output_type": "execute_result"
    }
   ],
   "source": [
    "z = (x_one-mu)/(S/math.sqrt(n))\n",
    "z"
   ]
  },
  {
   "cell_type": "code",
   "execution_count": 25,
   "metadata": {},
   "outputs": [
    {
     "data": {
      "text/plain": [
       "1.2649110640673518"
      ]
     },
     "execution_count": 25,
     "metadata": {},
     "output_type": "execute_result"
    }
   ],
   "source": [
    "z = (x_two-mu)/(S/math.sqrt(n))\n",
    "z"
   ]
  },
  {
   "cell_type": "code",
   "execution_count": 27,
   "metadata": {},
   "outputs": [
    {
     "data": {
      "text/plain": [
       "0.8923"
      ]
     },
     "execution_count": 27,
     "metadata": {},
     "output_type": "execute_result"
    }
   ],
   "source": [
    "# beta = P(-2.530 <= Z <= 1.265) = P(Z <= 1.265) - P(Z <= -2.530)\n",
    "0.8980-0.0057"
   ]
  },
  {
   "cell_type": "markdown",
   "metadata": {},
   "source": [
    "# Acceptance region     Sample size     alpha     beta at mu = 52      beta at mu = 50.5\n",
    "# 48 < x < 52"
   ]
  },
  {
   "cell_type": "code",
   "execution_count": 28,
   "metadata": {},
   "outputs": [],
   "source": [
    "mu = 50\n",
    "S = 2.5\n",
    "n = 10\n",
    "x_one, x_two = 48, 52"
   ]
  },
  {
   "cell_type": "code",
   "execution_count": 29,
   "metadata": {},
   "outputs": [
    {
     "data": {
      "text/plain": [
       "-2.5298221281347035"
      ]
     },
     "execution_count": 29,
     "metadata": {},
     "output_type": "execute_result"
    }
   ],
   "source": [
    "z = (x_one-mu)/(S/math.sqrt(n))\n",
    "z"
   ]
  },
  {
   "cell_type": "code",
   "execution_count": 30,
   "metadata": {},
   "outputs": [
    {
     "data": {
      "text/plain": [
       "2.5298221281347035"
      ]
     },
     "execution_count": 30,
     "metadata": {},
     "output_type": "execute_result"
    }
   ],
   "source": [
    "z = (x_two-mu)/(S/math.sqrt(n))\n",
    "z"
   ]
  },
  {
   "cell_type": "code",
   "execution_count": 32,
   "metadata": {},
   "outputs": [
    {
     "data": {
      "text/plain": [
       "0.011400000000000077"
      ]
     },
     "execution_count": 32,
     "metadata": {},
     "output_type": "execute_result"
    }
   ],
   "source": [
    "# alpha = P(Z < -2.53) + P(Z > 2.53)\n",
    "(1-0.9943)+(1-0.9943)"
   ]
  },
  {
   "cell_type": "code",
   "execution_count": 37,
   "metadata": {},
   "outputs": [],
   "source": [
    "mu = 52\n",
    "S = 2.5\n",
    "n = 10\n",
    "x_one, x_two = 48, 52"
   ]
  },
  {
   "cell_type": "code",
   "execution_count": 38,
   "metadata": {},
   "outputs": [
    {
     "data": {
      "text/plain": [
       "-5.059644256269407"
      ]
     },
     "execution_count": 38,
     "metadata": {},
     "output_type": "execute_result"
    }
   ],
   "source": [
    "z = (x_one-mu)/(S/math.sqrt(n))\n",
    "z"
   ]
  },
  {
   "cell_type": "code",
   "execution_count": 39,
   "metadata": {},
   "outputs": [
    {
     "data": {
      "text/plain": [
       "0.0"
      ]
     },
     "execution_count": 39,
     "metadata": {},
     "output_type": "execute_result"
    }
   ],
   "source": [
    "z = (x_two-mu)/(S/math.sqrt(n))\n",
    "z"
   ]
  },
  {
   "cell_type": "code",
   "execution_count": 42,
   "metadata": {},
   "outputs": [
    {
     "data": {
      "text/plain": [
       "0.5"
      ]
     },
     "execution_count": 42,
     "metadata": {},
     "output_type": "execute_result"
    }
   ],
   "source": [
    "# beta = P(-4.427 <= Z <= -0.632) =  P(Z <= 0.0) - P(Z <= -5.059)\n",
    "0.5000 - 0"
   ]
  },
  {
   "cell_type": "code",
   "execution_count": 43,
   "metadata": {},
   "outputs": [],
   "source": [
    "mu = 50.5\n",
    "S = 2.5\n",
    "n = 10\n",
    "x_one, x_two = 48, 52"
   ]
  },
  {
   "cell_type": "code",
   "execution_count": 44,
   "metadata": {},
   "outputs": [
    {
     "data": {
      "text/plain": [
       "-3.1622776601683795"
      ]
     },
     "execution_count": 44,
     "metadata": {},
     "output_type": "execute_result"
    }
   ],
   "source": [
    "z = (x_one-mu)/(S/math.sqrt(n))\n",
    "z"
   ]
  },
  {
   "cell_type": "code",
   "execution_count": 45,
   "metadata": {},
   "outputs": [
    {
     "data": {
      "text/plain": [
       "1.8973665961010278"
      ]
     },
     "execution_count": 45,
     "metadata": {},
     "output_type": "execute_result"
    }
   ],
   "source": [
    "z = (x_two-mu)/(S/math.sqrt(n))\n",
    "z"
   ]
  },
  {
   "cell_type": "code",
   "execution_count": 46,
   "metadata": {},
   "outputs": [
    {
     "data": {
      "text/plain": [
       "0.9705"
      ]
     },
     "execution_count": 46,
     "metadata": {},
     "output_type": "execute_result"
    }
   ],
   "source": [
    "# beta = P(-3.162 <= Z <= 1.897) =  P(Z <= 1.897) - P(Z <= -3.162)\n",
    "0.9713 - (1-0.9992)"
   ]
  },
  {
   "cell_type": "markdown",
   "metadata": {},
   "source": [
    "#  Acceptance region     Sample size     alpha     beta at mu = 52      beta at mu = 50.5\n",
    "# 48.81 < x < 51.9"
   ]
  },
  {
   "cell_type": "code",
   "execution_count": 79,
   "metadata": {},
   "outputs": [],
   "source": [
    "mu = 50\n",
    "S = 2.5\n",
    "n = 16\n",
    "x_one, x_two = 48.42, 51.58"
   ]
  },
  {
   "cell_type": "code",
   "execution_count": 80,
   "metadata": {},
   "outputs": [
    {
     "data": {
      "text/plain": [
       "-2.5279999999999974"
      ]
     },
     "execution_count": 80,
     "metadata": {},
     "output_type": "execute_result"
    }
   ],
   "source": [
    "z = (x_one-mu)/(S/math.sqrt(n))\n",
    "z"
   ]
  },
  {
   "cell_type": "code",
   "execution_count": 81,
   "metadata": {},
   "outputs": [
    {
     "data": {
      "text/plain": [
       "2.5279999999999974"
      ]
     },
     "execution_count": 81,
     "metadata": {},
     "output_type": "execute_result"
    }
   ],
   "source": [
    "z = (x_two-mu)/(S/math.sqrt(n))\n",
    "z"
   ]
  },
  {
   "cell_type": "code",
   "execution_count": 82,
   "metadata": {},
   "outputs": [
    {
     "data": {
      "text/plain": [
       "0.011400000000000077"
      ]
     },
     "execution_count": 82,
     "metadata": {},
     "output_type": "execute_result"
    }
   ],
   "source": [
    "# alpha = P(Z < -2.53) + P(Z > 2.53)\n",
    "(1-0.9943)+(1-0.9943)"
   ]
  },
  {
   "cell_type": "code",
   "execution_count": 83,
   "metadata": {},
   "outputs": [],
   "source": [
    "mu = 52\n",
    "S = 2.5\n",
    "n = 16\n",
    "x_one, x_two = 48.42, 51.58"
   ]
  },
  {
   "cell_type": "code",
   "execution_count": 84,
   "metadata": {},
   "outputs": [
    {
     "data": {
      "text/plain": [
       "-5.727999999999997"
      ]
     },
     "execution_count": 84,
     "metadata": {},
     "output_type": "execute_result"
    }
   ],
   "source": [
    "z = (x_one-mu)/(S/math.sqrt(n))\n",
    "z"
   ]
  },
  {
   "cell_type": "code",
   "execution_count": 85,
   "metadata": {},
   "outputs": [
    {
     "data": {
      "text/plain": [
       "-0.6720000000000027"
      ]
     },
     "execution_count": 85,
     "metadata": {},
     "output_type": "execute_result"
    }
   ],
   "source": [
    "z = (x_two-mu)/(S/math.sqrt(n))\n",
    "z"
   ]
  },
  {
   "cell_type": "code",
   "execution_count": 87,
   "metadata": {},
   "outputs": [
    {
     "data": {
      "text/plain": [
       "0.2514"
      ]
     },
     "execution_count": 87,
     "metadata": {},
     "output_type": "execute_result"
    }
   ],
   "source": [
    "# beta = P(-5.73 <= Z <= -0.67) =  P(Z <= -0.67) - P(Z <= -5.73)\n",
    "0.2514 - 0"
   ]
  },
  {
   "cell_type": "code",
   "execution_count": 88,
   "metadata": {},
   "outputs": [],
   "source": [
    "mu = 50.5\n",
    "S = 2.5\n",
    "n = 16\n",
    "x_one, x_two = 48.42, 51.58"
   ]
  },
  {
   "cell_type": "code",
   "execution_count": 89,
   "metadata": {},
   "outputs": [
    {
     "data": {
      "text/plain": [
       "-3.327999999999997"
      ]
     },
     "execution_count": 89,
     "metadata": {},
     "output_type": "execute_result"
    }
   ],
   "source": [
    "z = (x_one-mu)/(S/math.sqrt(n))\n",
    "z"
   ]
  },
  {
   "cell_type": "code",
   "execution_count": 90,
   "metadata": {},
   "outputs": [
    {
     "data": {
      "text/plain": [
       "1.7279999999999973"
      ]
     },
     "execution_count": 90,
     "metadata": {},
     "output_type": "execute_result"
    }
   ],
   "source": [
    "z = (x_two-mu)/(S/math.sqrt(n))\n",
    "z"
   ]
  },
  {
   "cell_type": "code",
   "execution_count": 78,
   "metadata": {},
   "outputs": [
    {
     "data": {
      "text/plain": [
       "0.8608"
      ]
     },
     "execution_count": 78,
     "metadata": {},
     "output_type": "execute_result"
    }
   ],
   "source": [
    "# beta = P(-3.33 <= Z <= 1.73) =  P(Z <= 1.73) - P(Z <= -3.33)\n",
    "0.8643 - (0.0035)"
   ]
  },
  {
   "cell_type": "code",
   "execution_count": 91,
   "metadata": {},
   "outputs": [
    {
     "data": {
      "text/plain": [
       "0.9578000000000001"
      ]
     },
     "execution_count": 91,
     "metadata": {},
     "output_type": "execute_result"
    }
   ],
   "source": [
    "0.9582-0.0004"
   ]
  },
  {
   "cell_type": "raw",
   "metadata": {},
   "source": [
    "Problem Statement 8:\n",
    "Find the t-score for a sample size of 16 taken from a population with mean 10 when\n",
    "the sample mean is 12 and the sample standard deviation is 1.5."
   ]
  },
  {
   "cell_type": "code",
   "execution_count": 110,
   "metadata": {},
   "outputs": [],
   "source": [
    "n = 16\n",
    "mu = 10\n",
    "S = 1.5\n",
    "x = 12\n",
    "freedoms = 15"
   ]
  },
  {
   "cell_type": "code",
   "execution_count": 111,
   "metadata": {},
   "outputs": [
    {
     "data": {
      "text/plain": [
       "5.333333333333333"
      ]
     },
     "execution_count": 111,
     "metadata": {},
     "output_type": "execute_result"
    }
   ],
   "source": [
    "t = (x-mu)/(S/math.sqrt(n))\n",
    "t"
   ]
  },
  {
   "cell_type": "raw",
   "metadata": {},
   "source": [
    "Probability: P(T < 5.333) = 1.0000"
   ]
  },
  {
   "cell_type": "raw",
   "metadata": {},
   "source": [
    "Problem Statement 9:\n",
    "Find the t-score below which we can expect 99% of sample means will fall if samples\n",
    "of size 16 are taken from a normally distributed population."
   ]
  },
  {
   "cell_type": "code",
   "execution_count": 101,
   "metadata": {},
   "outputs": [],
   "source": [
    "freedoms = 15"
   ]
  },
  {
   "cell_type": "code",
   "execution_count": 102,
   "metadata": {},
   "outputs": [
    {
     "data": {
      "text/plain": [
       "0.010000000000000009"
      ]
     },
     "execution_count": 102,
     "metadata": {},
     "output_type": "execute_result"
    }
   ],
   "source": [
    "alpha = 1-0.99\n",
    "alpha"
   ]
  },
  {
   "cell_type": "raw",
   "metadata": {},
   "source": [
    "t alpha 0.01 and 15 freedoms is 2.602"
   ]
  },
  {
   "cell_type": "raw",
   "metadata": {},
   "source": [
    "Problem Statement 10:\n",
    "If a random sample of size 25 drawn from a normal population gives a mean of 60\n",
    "and a standard deviation of 4, find the range of t-scores where we can expect to find\n",
    "the middle 95% of all sample means. Compute the probability that P(−𝑡0.05 <𝑡<𝑡0.10)."
   ]
  },
  {
   "cell_type": "code",
   "execution_count": 105,
   "metadata": {},
   "outputs": [],
   "source": [
    "n = 25\n",
    "freedom = 24\n",
    "mu = 60\n",
    "S = 4"
   ]
  },
  {
   "cell_type": "raw",
   "metadata": {},
   "source": [
    "P(T<=t) = 0.975 ---> t = 2.064\n",
    "P(T<=t) = 0.025 ---> t = -2.064"
   ]
  },
  {
   "cell_type": "raw",
   "metadata": {},
   "source": [
    "-2.064 <= t <= 2.064"
   ]
  },
  {
   "cell_type": "code",
   "execution_count": 112,
   "metadata": {},
   "outputs": [
    {
     "data": {
      "text/plain": [
       "0.059099999999999986"
      ]
     },
     "execution_count": 112,
     "metadata": {},
     "output_type": "execute_result"
    }
   ],
   "source": [
    "# P(−𝑡0.05 < 𝑡 < 𝑡0.10) with freedoms = 24\n",
    "0.5394 - 0.4803"
   ]
  },
  {
   "cell_type": "raw",
   "metadata": {},
   "source": [
    "Problem Statement 11:\n",
    "Two-tailed test for difference between two population means\n",
    "Is there evidence to conclude that the number of people travelling from Bangalore to\n",
    "Chennai is different from the number of people travelling from Bangalore to Hosur in\n",
    "a week, given the following:\n",
    "Population 1: Bangalore to Chennai n1 = 1200\n",
    "x1 = 452\n",
    "s1 = 212\n",
    "Population 2: Bangalore to Hosur n2 = 800\n",
    "x2 = 523\n",
    "s2 = 185\n",
    "alpha = 5%"
   ]
  },
  {
   "cell_type": "code",
   "execution_count": 2,
   "metadata": {},
   "outputs": [],
   "source": [
    "n_one = 1200\n",
    "x_one = 452\n",
    "s_one = 212\n",
    "n_two = 800\n",
    "x_two = 523\n",
    "s_two = 185"
   ]
  },
  {
   "cell_type": "code",
   "execution_count": 5,
   "metadata": {},
   "outputs": [
    {
     "data": {
      "text/plain": [
       "-7.926428526759299"
      ]
     },
     "execution_count": 5,
     "metadata": {},
     "output_type": "execute_result"
    }
   ],
   "source": [
    "Z = (x_one - x_two)/(math.sqrt((s_one**2/n_one)+(s_two**2/n_two)))\n",
    "Z"
   ]
  },
  {
   "cell_type": "raw",
   "metadata": {},
   "source": [
    "For two-tail test alpha/2 = 0.025\n",
    "Z(0.025) = 1.96\n",
    "Z < -1.96 ---> Null Hypothesis is rejected"
   ]
  },
  {
   "cell_type": "raw",
   "metadata": {},
   "source": [
    "Problem Statement 12:\n",
    "Is there evidence to conclude that the number of people preferring Duracell battery is\n",
    "different from the number of people preferring Energizer battery, given the following:\n",
    "Population 1: Duracell\n",
    "n1 = 100\n",
    "x1 = 308\n",
    "s1 = 84\n",
    "Population 2: Energizer\n",
    "n2 = 100\n",
    "x2 = 254\n",
    "s2 = 67"
   ]
  },
  {
   "cell_type": "code",
   "execution_count": 6,
   "metadata": {},
   "outputs": [],
   "source": [
    "n_one = 100\n",
    "x_one = 308\n",
    "s_one = 84\n",
    "n_two = 100\n",
    "x_two = 254\n",
    "s_two = 67"
   ]
  },
  {
   "cell_type": "code",
   "execution_count": 7,
   "metadata": {},
   "outputs": [
    {
     "data": {
      "text/plain": [
       "5.025702668336442"
      ]
     },
     "execution_count": 7,
     "metadata": {},
     "output_type": "execute_result"
    }
   ],
   "source": [
    "Z = (x_one - x_two)/(math.sqrt((s_one**2/n_one)+(s_two**2/n_two)))\n",
    "Z"
   ]
  },
  {
   "cell_type": "raw",
   "metadata": {},
   "source": [
    "For two-tail test alpha/2 = 0.025\n",
    "Z(0.025) = 1.96\n",
    "Z > 1.96 ---> Null Hypothesis is Rejected"
   ]
  },
  {
   "cell_type": "raw",
   "metadata": {},
   "source": [
    "Problem Statement 13:\n",
    "Pooled estimate of the population variance\n",
    "Does the data provide sufficient evidence to conclude that average percentage\n",
    "increase in the price of sugar differs when it is sold at two different prices?\n",
    "Population 1: Price of sugar = Rs. 27.50 n1 = 14\n",
    "x1 = 0.317%\n",
    "s1 = 0.12%\n",
    "Population 2: Price of sugar = Rs. 20.00 n2 = 9\n",
    "x2 = 0.21%\n",
    "s2 = 0.11%"
   ]
  },
  {
   "cell_type": "code",
   "execution_count": 7,
   "metadata": {},
   "outputs": [],
   "source": [
    "n_one = 14\n",
    "x_one = 0.317\n",
    "s_one = 0.12\n",
    "n_two = 9\n",
    "x_two = 0.21\n",
    "s_two = 0.11"
   ]
  },
  {
   "cell_type": "code",
   "execution_count": 8,
   "metadata": {},
   "outputs": [
    {
     "data": {
      "text/plain": [
       "2.15355322387416"
      ]
     },
     "execution_count": 8,
     "metadata": {},
     "output_type": "execute_result"
    }
   ],
   "source": [
    "t = (x_one - x_two)/math.sqrt(((((s_one**2)*(n_one-1))+((s_two**2)*(n_two-1)))/(n_one+n_two-2))*((1/n_one)+(1/n_two)))\n",
    "t"
   ]
  },
  {
   "cell_type": "raw",
   "metadata": {},
   "source": [
    "t(0.025) is 2.0796 at 21 df\n",
    "t > t(0.025) Null hypothesis rejected"
   ]
  },
  {
   "cell_type": "raw",
   "metadata": {},
   "source": [
    "Problem Statement 14:\n",
    "The manufacturers of compact disk players want to test whether a small price\n",
    "reduction is enough to increase sales of their product. Is there evidence that the\n",
    "small price reduction is enough to increase sales of compact disk players?\n",
    "Population 1: Before reduction\n",
    "n1 = 15\n",
    "x1 = Rs. 6598 s1 = Rs. 844\n",
    "Population 2: After reduction n2 = 12\n",
    "x2 = RS. 6870\n",
    "s2 = Rs. 669"
   ]
  },
  {
   "cell_type": "code",
   "execution_count": 9,
   "metadata": {},
   "outputs": [],
   "source": [
    "n_one = 15\n",
    "x_one = 6598\n",
    "s_one = 844\n",
    "n_two = 12\n",
    "x_two = 6870\n",
    "s_two =669"
   ]
  },
  {
   "cell_type": "code",
   "execution_count": 10,
   "metadata": {},
   "outputs": [
    {
     "data": {
      "text/plain": [
       "-0.9098300343990461"
      ]
     },
     "execution_count": 10,
     "metadata": {},
     "output_type": "execute_result"
    }
   ],
   "source": [
    "t = (x_one - x_two)/math.sqrt(((((s_one**2)*(n_one-1))+((s_two**2)*(n_two-1)))/(n_one+n_two-2))*((1/n_one)+(1/n_two)))\n",
    "t"
   ]
  },
  {
   "cell_type": "raw",
   "metadata": {},
   "source": [
    "For 95% confidence level\n",
    "t(0.025) is 2.056 at 26 df\n",
    "t > -2.056 Null hypothesis accepted"
   ]
  },
  {
   "cell_type": "raw",
   "metadata": {},
   "source": [
    "Problem Statement 15:\n",
    "Comparisons of two population proportions when the hypothesized difference is zero\n",
    "Carry out a two-tailed test of the equality of banks’ share of the car loan market in\n",
    "1980 and 1995.\n",
    "Population 1: 1980\n",
    "n1 = 1000\n",
    "x1 = 53\n",
    "𝑝 1 = 0.53\n",
    "Population 2: 1985\n",
    "n2 = 100\n",
    "x2 = 43\n",
    "𝑝 2= 0.53"
   ]
  },
  {
   "cell_type": "code",
   "execution_count": 22,
   "metadata": {},
   "outputs": [],
   "source": [
    "n1 = 100\n",
    "x1 = 53\n",
    "𝑝1 = 0.53\n",
    "n2 = 100\n",
    "x2 = 43\n",
    "𝑝2= 0.43"
   ]
  },
  {
   "cell_type": "code",
   "execution_count": 23,
   "metadata": {},
   "outputs": [
    {
     "data": {
      "text/plain": [
       "0.48"
      ]
     },
     "execution_count": 23,
     "metadata": {},
     "output_type": "execute_result"
    }
   ],
   "source": [
    "p = (x1 + x2)/(n1 + n2)\n",
    "p"
   ]
  },
  {
   "cell_type": "code",
   "execution_count": 24,
   "metadata": {},
   "outputs": [
    {
     "data": {
      "text/plain": [
       "1.4153462926807452"
      ]
     },
     "execution_count": 24,
     "metadata": {},
     "output_type": "execute_result"
    }
   ],
   "source": [
    "z = (p1-p2)/(math.sqrt(p*(1-p)*((1/n1)+(1/n2))))\n",
    "z"
   ]
  },
  {
   "cell_type": "raw",
   "metadata": {},
   "source": [
    "For 95% confidence level\n",
    "z(0.025) is 1.96\n",
    "z < 1.96 Null hypothesis accepted"
   ]
  },
  {
   "cell_type": "raw",
   "metadata": {},
   "source": [
    "Problem Statement 16:\n",
    "Carry out a one-tailed test to determine whether the population proportion of\n",
    "traveler’s check buyers who buy at least $2500 in checks when sweepstakes prizes\n",
    "are offered as at least 10% higher than the proportion of such buyers when no\n",
    "sweepstakes are on.\n",
    "Population 1: With sweepstakes\n",
    "n1 = 300\n",
    "x1 = 120\n",
    "𝑝 = 0.40\n",
    "Population 2: No sweepstakes n2 = 700\n",
    "x2 = 140\n",
    "𝑝 2= 0.20"
   ]
  },
  {
   "cell_type": "code",
   "execution_count": 29,
   "metadata": {},
   "outputs": [],
   "source": [
    "n1 = 300\n",
    "x1 = 120\n",
    "𝑝1 = 0.40\n",
    "n2 = 700\n",
    "x2 = 140\n",
    "𝑝2= 0.20"
   ]
  },
  {
   "cell_type": "code",
   "execution_count": 34,
   "metadata": {},
   "outputs": [
    {
     "data": {
      "text/plain": [
       "3.1180478223116177"
      ]
     },
     "execution_count": 34,
     "metadata": {},
     "output_type": "execute_result"
    }
   ],
   "source": [
    "z = ((p1-p2)-0.1)/(math.sqrt((p1*(1-p1)*(1/n1))+((p2*(1-p2))*(1/n2))))\n",
    "z"
   ]
  },
  {
   "cell_type": "raw",
   "metadata": {},
   "source": [
    "For 95% confidence level\n",
    "z(0.025) is 1.96\n",
    "z > 1.96 Null hypothesis rejected"
   ]
  },
  {
   "cell_type": "raw",
   "metadata": {},
   "source": [
    "Problem Statement 17:\n",
    "A die is thrown 132 times with the following results: Number turned up: 1, 2, 3, 4, 5, 6\n",
    "Frequency: 16, 20, 25, 14, 29, 28\n",
    "Is the die unbiased? Consider the degrees of freedom as 𝑝 − 1."
   ]
  },
  {
   "cell_type": "code",
   "execution_count": 38,
   "metadata": {},
   "outputs": [
    {
     "data": {
      "text/plain": [
       "22.0"
      ]
     },
     "execution_count": 38,
     "metadata": {},
     "output_type": "execute_result"
    }
   ],
   "source": [
    "Expected_frequency = 132/6\n",
    "Expected_frequency"
   ]
  },
  {
   "cell_type": "code",
   "execution_count": 50,
   "metadata": {},
   "outputs": [
    {
     "data": {
      "text/plain": [
       "9.0"
      ]
     },
     "execution_count": 50,
     "metadata": {},
     "output_type": "execute_result"
    }
   ],
   "source": [
    "sum = 0\n",
    "for i in [16, 20, 25, 14, 29, 28]:\n",
    "    sum += (i-22)**2\n",
    "chi_square = sum/22\n",
    "chi_square"
   ]
  },
  {
   "cell_type": "raw",
   "metadata": {},
   "source": [
    "For degrees of freedom 5, alpha = 0.05\n",
    "critical value is 11.0705\n",
    "chi_square < critical value , Null hypothesis Accepted and the die is unbiased."
   ]
  },
  {
   "cell_type": "raw",
   "metadata": {},
   "source": [
    "Problem Statement 18:\n",
    "In a certain town, there are about one million eligible voters. A simple random\n",
    "sample of 10,000 eligible voters was chosen to study the relationship between\n",
    "gender and participation in the last election. The results are summarized in the\n",
    "following 2X2 (read two by two) contingency table:\n",
    "\n",
    "                     men        women     total\n",
    "voted                2792        3591     6383\n",
    "not-voted            1486        2131     3617\n",
    "total                3278        5722     10000\n",
    "\n",
    "We would want to check whether being a man or a woman (columns) is independent of\n",
    "having voted in the last election (rows). In other words, is “gender and voting independent”?"
   ]
  },
  {
   "cell_type": "raw",
   "metadata": {},
   "source": [
    "Expected men to vote = total voted*(men/total people)\n",
    "Expected women to vote = total voted*(women/total people)\n",
    "Expected men not to vote = total not voted*(men/total people)\n",
    "Expected women not to vote = total not voted*(women/total people)"
   ]
  },
  {
   "cell_type": "raw",
   "metadata": {},
   "source": [
    "Expected table\n",
    "                     men        women     total\n",
    "voted                2731        3652     6383\n",
    "not-voted            1547        2070     3617\n",
    "total                3278        5722     10000"
   ]
  },
  {
   "cell_type": "code",
   "execution_count": 51,
   "metadata": {},
   "outputs": [
    {
     "data": {
      "text/plain": [
       "6.584283456757529"
      ]
     },
     "execution_count": 51,
     "metadata": {},
     "output_type": "execute_result"
    }
   ],
   "source": [
    "chi_squared = ((2792-2731)**2)/2731 + ((3652-3591)**2)/3652 + ((1486-1547)**2)/1547 + ((2131-2070)**2)/2070\n",
    "chi_squared"
   ]
  },
  {
   "cell_type": "code",
   "execution_count": 52,
   "metadata": {},
   "outputs": [
    {
     "data": {
      "text/plain": [
       "1"
      ]
     },
     "execution_count": 52,
     "metadata": {},
     "output_type": "execute_result"
    }
   ],
   "source": [
    "degrees_of_freedom = (2-1)*(2-1)\n",
    "degrees_of_freedom"
   ]
  },
  {
   "cell_type": "raw",
   "metadata": {},
   "source": [
    "Critical value for alpha 0.05 for degree of freedom 1 is 3.8415.\n",
    "chi_squared > critical value. Hypothesis rejected, gender and voting are independent."
   ]
  },
  {
   "cell_type": "raw",
   "metadata": {},
   "source": [
    "Problem Statement 19:\n",
    "A sample of 100 voters are asked which of four candidates they would vote for in an\n",
    "election. The number supporting each candidate is given below:\n",
    "\n",
    "Higgins       Reardon        White       Charlton\n",
    "   41           19             24           16\n",
    "\n",
    "Do the data suggest that all candidates are equally popular? [Chi-Square = 14.96,\n",
    "with 3 df, 𝑝 < 0.05."
   ]
  },
  {
   "cell_type": "code",
   "execution_count": 53,
   "metadata": {},
   "outputs": [
    {
     "data": {
      "text/plain": [
       "14.959999999999999"
      ]
     },
     "execution_count": 53,
     "metadata": {},
     "output_type": "execute_result"
    }
   ],
   "source": [
    "chi_squared = ((41-25)**2)/25 + ((19-25)**2)/25 + ((24-25)**2)/25 + ((16-25)**2)/25\n",
    "chi_squared"
   ]
  },
  {
   "cell_type": "raw",
   "metadata": {},
   "source": [
    "with 3 df, 𝑝 < 0.05, critical value is 7.8147\n",
    "chi_squared > critical value. Null hypothesis rejected, voters do not prefer the four candidates equally."
   ]
  },
  {
   "cell_type": "raw",
   "metadata": {},
   "source": [
    "Problem Statement 20:\n",
    "Children of three ages are asked to indicate their preference for three photographs of \n",
    "adults. Do the data suggest that there is a significant relationship between age and \n",
    "photograph preference? What is wrong with this study? [Chi-Square = 29.6, with 4 \n",
    "df: 𝑝 < 0.05].\n",
    "\n",
    "                    Population\n",
    "Age of child        A             B            C        total\n",
    "    5-6             18            22           20        60\n",
    "    6-7             2             28           40        70\n",
    "    7-8             20            10           40        70\n",
    "   Total            40            60           100       200"
   ]
  },
  {
   "cell_type": "raw",
   "metadata": {},
   "source": [
    "Expected table      Population\n",
    "Age of child        A             B            C        total\n",
    "    5-6             12            18           30        60\n",
    "    6-7             14            21           35        70\n",
    "    7-8             14            21           35        70\n",
    "   Total            40            60           100       200"
   ]
  },
  {
   "cell_type": "code",
   "execution_count": 2,
   "metadata": {},
   "outputs": [
    {
     "data": {
      "text/plain": [
       "29.603174603174608"
      ]
     },
     "execution_count": 2,
     "metadata": {},
     "output_type": "execute_result"
    }
   ],
   "source": [
    "chi_squared = ((18-12)**2)/12 + ((22-18)**2)/18 + ((20-30)**2)/30 + ((2-14)**2)/14 + ((28-21)**2)/21 + ((40-35)**2)/35 + ((20-14)**2)/14 + ((10-21)**2)/21 + ((40-35)**2)/35\n",
    "chi_squared"
   ]
  },
  {
   "cell_type": "code",
   "execution_count": 4,
   "metadata": {},
   "outputs": [
    {
     "data": {
      "text/plain": [
       "4"
      ]
     },
     "execution_count": 4,
     "metadata": {},
     "output_type": "execute_result"
    }
   ],
   "source": [
    "Freedoms = (3-1)*(3-1)\n",
    "Freedoms"
   ]
  },
  {
   "cell_type": "markdown",
   "metadata": {},
   "source": [
    "critical value is 13.28 for alpha is 0.01 and freedoms is 4\n",
    "chi_squared > critical value. Null Hypothesis rejected, we have a Chi-Square value which is so large that it would occur by chance only about once in a thousand times. It seems more reasonable to accept the alternative hypothesis, that there is a significant relationship between age of child and photograph preference."
   ]
  },
  {
   "cell_type": "code",
   "execution_count": null,
   "metadata": {},
   "outputs": [],
   "source": [
    "Problem Statement 21: \n",
    "A study of conformity using the Asch paradigm involved two conditions: one where \n",
    "one confederate supported the true judgement and another where no confederate \n",
    "gave the correct response.\n",
    "\n",
    "                     Support        No Support    Total\n",
    "Conform                 18               40         58\n",
    "Not Conform             32               10         42\n",
    "Total                   50               50         100\n",
    "\n",
    "Is there a significant difference between the \"support\" and \"no support\" conditions in the \n",
    "frequency with which individuals are likely to conform? [Chi-Square = 19.87, with 1 df:\n",
    "𝑝 < 0.05]"
   ]
  },
  {
   "cell_type": "code",
   "execution_count": null,
   "metadata": {},
   "outputs": [],
   "source": [
    "                     Support        No Support    Total\n",
    "Conform                 29               29         58\n",
    "Not Conform             21               21         42\n",
    "Total                   50               50         100"
   ]
  },
  {
   "cell_type": "code",
   "execution_count": 5,
   "metadata": {},
   "outputs": [
    {
     "data": {
      "text/plain": [
       "19.868637110016422"
      ]
     },
     "execution_count": 5,
     "metadata": {},
     "output_type": "execute_result"
    }
   ],
   "source": [
    "chi_squared = ((18-29)**2)/29 + ((40-29)**2)/29 + ((21-32)**2)/21 + ((21-10)**2)/21\n",
    "chi_squared"
   ]
  },
  {
   "cell_type": "code",
   "execution_count": 7,
   "metadata": {},
   "outputs": [
    {
     "data": {
      "text/plain": [
       "1"
      ]
     },
     "execution_count": 7,
     "metadata": {},
     "output_type": "execute_result"
    }
   ],
   "source": [
    "Freedoms = (2-1)*(2-1)\n",
    "Freedoms"
   ]
  },
  {
   "cell_type": "raw",
   "metadata": {},
   "source": [
    "Critical value for alpha 0.05 for degree of freedom 1 is 3.8415.\n",
    "chi_squared > critical value. Hypothesis rejected, Support and conform are independent. There is a significant difference between the \"support\" and \"no support\" conditions."
   ]
  },
  {
   "cell_type": "raw",
   "metadata": {},
   "source": [
    "We want to test whether short people differ with respect to their leadership qualities \n",
    "(Genghis Khan, Adolf Hitler and Napoleon were all stature-deprived, and how many midget \n",
    "MP's are there?) The following table shows the frequencies with which 43 short people and \n",
    "52 tall people were categorized as \"leaders\", \"followers\" or as \"unclassifiable\". Is there a \n",
    "relationship between height and leadership qualities? \n",
    "[Chi-Square = 10.71, with 2 df: 𝑝 < 0.01].\n",
    "\n",
    "                       short        Tall     Total\n",
    "Leader                  12           32        44\n",
    "Follower                22           14        36\n",
    "Unclassifiable          9            6         15\n",
    "Total                   43           52        95"
   ]
  },
  {
   "cell_type": "raw",
   "metadata": {},
   "source": [
    "Expected Table         short        Tall     Total\n",
    "Leader                  19.92       24.08      44\n",
    "Follower                16.29       19.71      36\n",
    "Unclassifiable          6.79        8.21       15\n",
    "Total                   43          52         80"
   ]
  },
  {
   "cell_type": "code",
   "execution_count": 11,
   "metadata": {},
   "outputs": [
    {
     "data": {
      "text/plain": [
       "10.72370708083587"
      ]
     },
     "execution_count": 11,
     "metadata": {},
     "output_type": "execute_result"
    }
   ],
   "source": [
    "Chi_squared = ((12-19.92)**2)/19.92 + ((32-24.08)**2)/24.08 + ((22-16.29)**2)/16.29 + ((14-19.71)**2)/19.71 + ((9-6.79)**2)/6.79 + ((6-8.21)**2)/8.21\n",
    "Chi_squared"
   ]
  },
  {
   "cell_type": "code",
   "execution_count": 13,
   "metadata": {},
   "outputs": [
    {
     "data": {
      "text/plain": [
       "2"
      ]
     },
     "execution_count": 13,
     "metadata": {},
     "output_type": "execute_result"
    }
   ],
   "source": [
    "freedoms = (3-1)*(2-1)\n",
    "freedoms"
   ]
  },
  {
   "cell_type": "raw",
   "metadata": {},
   "source": [
    "Critical value for alpha 0.01 for degree of freedom 2 is 9.21.\n",
    "chi_squared > critical value. Hypothesis rejected, there seems to be a relationship between height and leadership qualities."
   ]
  },
  {
   "cell_type": "raw",
   "metadata": {},
   "source": [
    "Problem Statement 23: \n",
    "Each respondent in the Current Population Survey of March 1993 was classified as \n",
    "employed, unemployed, or outside the labor force. The results for men in California age 35-\n",
    "44 can be cross-tabulated by marital status, as follows:\n",
    "\n",
    "                Married     SingleNow   NeverMarried   Total \n",
    "Employed           679         103         114          896\n",
    "Unemployed         63          10           20           93\n",
    "Not labor          42          18           25           85\n",
    "Total             784          131         159         1074\n",
    "\n",
    "Men of different marital status seem to have different distributions of labor force status. Or is \n",
    "this just chance variation? (you may assume the table results from a simple random \n",
    "sample.)"
   ]
  },
  {
   "cell_type": "raw",
   "metadata": {},
   "source": [
    "Expected Table   Married     SingleNow   NeverMarried   Total  \n",
    "Employed           654.06     109.29         132.65      896\n",
    "Unemployed         63          10             20          93\n",
    "Not labor          62.05      10.37         12.58         85\n",
    "Total             784          131         159         1074"
   ]
  },
  {
   "cell_type": "code",
   "execution_count": 15,
   "metadata": {},
   "outputs": [
    {
     "data": {
      "text/plain": [
       "31.613103206011402"
      ]
     },
     "execution_count": 15,
     "metadata": {},
     "output_type": "execute_result"
    }
   ],
   "source": [
    "Chi_Sqaured = (679 - 654.063315)**2 / 654.063315 + (103 - 109.288641)**2 / 109.288641 + (114 - 132.648045)**2 / 132.648045 + (63 - 67.888268)**2 / 67.888268 + (10 - 11.343575)**2 / 11.343575 + (20 - 13.768156)**2 / 13.768156 + (42 - 62.048417)**2 / 62.048417 + (18 - 10.367784)**2 / 10.367784 + (25 - 12.583799)**2 / 12.583799\n",
    "Chi_Sqaured"
   ]
  },
  {
   "cell_type": "code",
   "execution_count": 16,
   "metadata": {},
   "outputs": [
    {
     "data": {
      "text/plain": [
       "4"
      ]
     },
     "execution_count": 16,
     "metadata": {},
     "output_type": "execute_result"
    }
   ],
   "source": [
    "Degree_of_Freedom = (3 - 1)*(3 - 1)\n",
    "Degree_of_Freedom"
   ]
  },
  {
   "cell_type": "raw",
   "metadata": {},
   "source": [
    "Critical Value For alpha 0.05 and 4 degrees of freedom is 9.487729\n",
    "Chi_squared > Critical value. Reject Null Hypothesis. There is a relation between rows and columns"
   ]
  }
 ],
 "metadata": {
  "kernelspec": {
   "display_name": "Python 3",
   "language": "python",
   "name": "python3"
  },
  "language_info": {
   "codemirror_mode": {
    "name": "ipython",
    "version": 3
   },
   "file_extension": ".py",
   "mimetype": "text/x-python",
   "name": "python",
   "nbconvert_exporter": "python",
   "pygments_lexer": "ipython3",
   "version": "3.8.3"
  }
 },
 "nbformat": 4,
 "nbformat_minor": 4
}
