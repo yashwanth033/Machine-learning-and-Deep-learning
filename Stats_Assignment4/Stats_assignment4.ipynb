{
 "cells": [
  {
   "cell_type": "code",
   "execution_count": 1,
   "metadata": {},
   "outputs": [],
   "source": [
    "import math"
   ]
  },
  {
   "cell_type": "markdown",
   "metadata": {},
   "source": [
    "![title](z_table.png)"
   ]
  },
  {
   "cell_type": "raw",
   "metadata": {},
   "source": [
    "Problem Statement 1:\n",
    "Is gender independent of education level? A random sample of 395 people were \n",
    "surveyed and each person was asked to report the highest education level they \n",
    "obtained. The data that resulted from the survey is summarized in the following table:\n",
    "            High School    Bachelors    Masters    Ph.d.   Total\n",
    "Female          60             54         46        41      201\n",
    "Male            40             44         53        57      194\n",
    "Total          100             98         99        98      395\n",
    "\n",
    "Question: Are gender and education level dependent at 5% level of significance? In\n",
    "other words, given the data collected above, is there a relationship between the \n",
    "gender of an individual and the level of education that they have obtained?"
   ]
  },
  {
   "cell_type": "raw",
   "metadata": {},
   "source": [
    "            High School    Bachelors    Masters    Ph.d.     Total\n",
    "Female        50.89          49.87       50.38     49.87      201\n",
    "Male          49.11          48.13       48.62     48.13      194\n",
    "Total          100             98         99        98        395"
   ]
  },
  {
   "cell_type": "code",
   "execution_count": 20,
   "metadata": {},
   "outputs": [],
   "source": [
    "observed = [60, 54, 46, 41, 40, 44, 53, 57]\n",
    "expected = [50.89, 49.87, 50.38, 49.87, 49.11, 48.13, 48.62, 48.13]"
   ]
  },
  {
   "cell_type": "code",
   "execution_count": 23,
   "metadata": {},
   "outputs": [
    {
     "data": {
      "text/plain": [
       "8.004842715172856"
      ]
     },
     "execution_count": 23,
     "metadata": {},
     "output_type": "execute_result"
    }
   ],
   "source": [
    "sum = 0\n",
    "for i in range(len(observed)):\n",
    "    sum += ((observed[i]-expected[i])**2)/expected[i]\n",
    "sum"
   ]
  },
  {
   "cell_type": "code",
   "execution_count": 24,
   "metadata": {},
   "outputs": [
    {
     "data": {
      "text/plain": [
       "3"
      ]
     },
     "execution_count": 24,
     "metadata": {},
     "output_type": "execute_result"
    }
   ],
   "source": [
    "degrees_of_freedom = (2-1)*(4-1)\n",
    "degrees_of_freedom"
   ]
  },
  {
   "cell_type": "raw",
   "metadata": {},
   "source": [
    "critical value of chi_squared with 3 degree of freedom is 7.815 for significance value 0.05.\n",
    "Since 8.006 > 7.815, we reject the null hypothesis and conclude that the education level depends on gender at a 5% level of significance."
   ]
  },
  {
   "cell_type": "raw",
   "metadata": {},
   "source": [
    "Problem Statement 2:\n",
    "Using the following data, perform a oneway analysis of variance using α=.05. Write \n",
    "up the results in APA format.\n",
    "[Group1: 51, 45, 33, 45, 67]\n",
    "[Group2: 23, 43, 23, 43, 45]\n",
    "[Group3: 56, 76, 74, 87, 56]"
   ]
  },
  {
   "cell_type": "raw",
   "metadata": {},
   "source": [
    "        Group1  Group2  Group3   (S1-S1_mu)**2  (S2-S2_mu)**2  (S3-S3_mu)**2\n",
    "          51      23      56         7.84         153.76           190.44\n",
    "          45      43      76        10.24          57.6             38.44\n",
    "          33      23      74       231.04         153.76            17.64\n",
    "          45      43      87        10.24          57.6            295.84\n",
    "          67      45      56       353.44          92.16           190.44\n",
    "Mean     48.2    35.4    69.8      612.8          514.88            732.8\n",
    "Grand Mean 51.1"
   ]
  },
  {
   "cell_type": "code",
   "execution_count": 25,
   "metadata": {},
   "outputs": [
    {
     "data": {
      "text/plain": [
       "155.04"
      ]
     },
     "execution_count": 25,
     "metadata": {},
     "output_type": "execute_result"
    }
   ],
   "source": [
    "mean_within = (612.8+514.88+732.8)/(5+5+5-3)\n",
    "mean_within"
   ]
  },
  {
   "cell_type": "code",
   "execution_count": 28,
   "metadata": {},
   "outputs": [
    {
     "data": {
      "text/plain": [
       "1511.475"
      ]
     },
     "execution_count": 28,
     "metadata": {},
     "output_type": "execute_result"
    }
   ],
   "source": [
    "mean_between = (5*((48.2-51.1)**2 + (35.4-51.1)**2 + (69.8-51.1)**2))/(3-1)\n",
    "mean_between"
   ]
  },
  {
   "cell_type": "code",
   "execution_count": 35,
   "metadata": {},
   "outputs": [
    {
     "data": {
      "text/plain": [
       "9.748935758513932"
      ]
     },
     "execution_count": 35,
     "metadata": {},
     "output_type": "execute_result"
    }
   ],
   "source": [
    "f_score = mean_between/mean_within\n",
    "f_score"
   ]
  },
  {
   "cell_type": "raw",
   "metadata": {},
   "source": [
    "Degree of freedoms in numerator - 2, Degree of freedoms in denominator - 12 is 3.89 at significance value < 0.05"
   ]
  },
  {
   "cell_type": "raw",
   "metadata": {},
   "source": [
    "F-score > critical-score. Null Hypothesis is rejected."
   ]
  },
  {
   "cell_type": "code",
   "execution_count": 39,
   "metadata": {},
   "outputs": [
    {
     "data": {
      "text/plain": [
       "0.6190218760174714"
      ]
     },
     "execution_count": 39,
     "metadata": {},
     "output_type": "execute_result"
    }
   ],
   "source": [
    "Eta_sqaured = ((5*((48.2-51.1)**2 + (35.4-51.1)**2 + (69.8-51.1)**2)))/((612.8+514.88+732.8) + (5*((48.2-51.1)**2 + (35.4-51.1)**2 + (69.8-51.1)**2)))\n",
    "Eta_sqaured"
   ]
  },
  {
   "cell_type": "raw",
   "metadata": {},
   "source": [
    "APA writeup :\n",
    "F(2, 12)=9.75, p <0.05 critical value 3.89, Eta_sqaured = 0.62"
   ]
  },
  {
   "cell_type": "raw",
   "metadata": {},
   "source": [
    "Problem Statement 3:\n",
    "Calculate F Test for given 10, 20, 30, 40, 50 and 5,10,15, 20, 25.\n",
    "For 10, 20, 30, 40, 50:"
   ]
  },
  {
   "cell_type": "code",
   "execution_count": 40,
   "metadata": {},
   "outputs": [
    {
     "data": {
      "text/plain": [
       "250.0"
      ]
     },
     "execution_count": 40,
     "metadata": {},
     "output_type": "execute_result"
    }
   ],
   "source": [
    "sum = 0\n",
    "for each in [10, 20, 30, 40, 50]:\n",
    "    sum += (30-each)**2\n",
    "sum/4"
   ]
  },
  {
   "cell_type": "code",
   "execution_count": 41,
   "metadata": {},
   "outputs": [
    {
     "data": {
      "text/plain": [
       "62.5"
      ]
     },
     "execution_count": 41,
     "metadata": {},
     "output_type": "execute_result"
    }
   ],
   "source": [
    "sum = 0\n",
    "for each in [5, 10, 15, 20, 25]:\n",
    "    sum += (15-each)**2\n",
    "sum/4"
   ]
  },
  {
   "cell_type": "code",
   "execution_count": 46,
   "metadata": {},
   "outputs": [
    {
     "data": {
      "text/plain": [
       "4.0"
      ]
     },
     "execution_count": 46,
     "metadata": {},
     "output_type": "execute_result"
    }
   ],
   "source": [
    "f_value = 250/62.5\n",
    "f_value"
   ]
  },
  {
   "cell_type": "raw",
   "metadata": {},
   "source": [
    "Degrees of freedom numerator is 4, Degrees of freedom denominator is 4, critical value is 9.60 at alpha level 0.025.\n",
    "f_value < critical value. We cannot reject the null hypothesis. No difference in variances."
   ]
  }
 ],
 "metadata": {
  "kernelspec": {
   "display_name": "Python 3",
   "language": "python",
   "name": "python3"
  },
  "language_info": {
   "codemirror_mode": {
    "name": "ipython",
    "version": 3
   },
   "file_extension": ".py",
   "mimetype": "text/x-python",
   "name": "python",
   "nbconvert_exporter": "python",
   "pygments_lexer": "ipython3",
   "version": "3.8.3"
  }
 },
 "nbformat": 4,
 "nbformat_minor": 4
}
